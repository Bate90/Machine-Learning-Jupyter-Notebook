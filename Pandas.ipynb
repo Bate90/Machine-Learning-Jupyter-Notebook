{
  "nbformat": 4,
  "nbformat_minor": 0,
  "metadata": {
    "colab": {
      "name": "Pandas.ipynb",
      "version": "0.3.2",
      "provenance": [],
      "collapsed_sections": []
    },
    "kernelspec": {
      "name": "python3",
      "display_name": "Python 3"
    }
  },
  "cells": [
    {
      "cell_type": "markdown",
      "metadata": {
        "id": "zr2jOtnQnjvg",
        "colab_type": "text"
      },
      "source": [
        "#Python Data Analysis Library\n",
        "\n",
        "---\n",
        "\n",
        "**What is Pandas or Python Data Analysis Library?**\n",
        "\n",
        "\n",
        "pandas is an open source, Python Data Analysis Library providing high-performance, easy-to-use data structures and data analysis tools for the Python programming language.\n",
        "\n",
        "The name Pandas is drived from \"Panel Data\" - an Econometrics from Multidimensional data.\n",
        "\n",
        "---\n",
        "\n",
        "**Library Highlights**\n",
        "\n",
        "*   A fast and efficient **DataFrame** object for data manipulation with integrated indexing;\n",
        "*   Tools for **reading and writing** data between in-memory data structures and different formats: CSV and text files, Microsoft Excel, SQL databases, and the fast HDF5 format;\n",
        "*   Intelligent **data alignment** and integrated handling of **missing data**: gain automatic label-based alignment in computations and easily manipulate messy data into an orderly form;\n",
        "*   Flexible **reshaping** and pivoting of data sets;\n",
        "*   Intelligent label-based **slicing, fancy indexing,** and **subsetting** of large data sets;\n",
        "*   Columns can be inserted and deleted from data structures for **size mutability**;\n",
        "*   Aggregating or transforming data with a powerful **group by** engine allowing split-apply-combine operations on data sets;\n",
        "*   High performance **merging and joining** of data sets;\n",
        "*   **Hierarchical axis indexing** provides an intuitive way of working with high-dimensional data in a lower-dimensional data structure;\n",
        "*   **Time series**-functionality: date range generation and frequency conversion, moving window statistics, moving window linear regressions, date shifting and lagging. Even create domain-specific time offsets and join time series without losing data;\n",
        "*   Highly **optimized for performance**, with critical code paths written in Cython or C.\n",
        "*   Python with pandas is in use in a wide variety of **academic and commercial** domains, including Finance, Neuroscience, Economics, Statistics, Advertising, Web Analytics, and more.\n",
        "\n",
        "---"
      ]
    },
    {
      "cell_type": "markdown",
      "metadata": {
        "id": "hSWwVDGCqaZ8",
        "colab_type": "text"
      },
      "source": [
        "**Pandas is well suited for many different kind of data:**\n",
        "*   Tabular data with hetrogeneously-typed columns.\n",
        "*   Ordered and unordered time series data.\n",
        "*   Arbitary matrix data with row and column lebels\n",
        "*   Any other form of observational/Statistical data set. The data actually need not be labeled all to be placed into Pandas data structure.\n",
        "\n",
        "---\n",
        "\n",
        "\n"
      ]
    },
    {
      "cell_type": "markdown",
      "metadata": {
        "id": "CRdBhPicsn8V",
        "colab_type": "text"
      },
      "source": [
        "**Data Structures in Pandas:**\n",
        "\n",
        "Pandas provides three data structures: **Series, Data Frame and Panel**; all of which are built on top of the NumPy array.\n",
        "\n",
        "\n",
        "---\n",
        "\n"
      ]
    },
    {
      "cell_type": "markdown",
      "metadata": {
        "id": "sTEhvH1BvMzh",
        "colab_type": "text"
      },
      "source": [
        "# Series\n",
        "\n",
        "---\n",
        "**Series** is one-dimensional labeled array structures that stores homogeneous data i.e., data of single type. \n",
        "\n",
        "All the elements of series are **value-mutable** and **size-immutable**\n",
        "\n",
        "---\n",
        "\n",
        "In other words, **Series** is a **one-dimensional labeled array** capable of holding any data type (integers, strings, floating point numbers, Python objects, etc.). The axis labels are collectively referred to as the index. The basic method to create a Series is to call:\n",
        "\n",
        "**s = pd.Series(data, index=index)**\n",
        "\n",
        "---\n",
        "\n",
        "\n"
      ]
    },
    {
      "cell_type": "markdown",
      "metadata": {
        "id": "YUS7YUrow7oM",
        "colab_type": "text"
      },
      "source": [
        "Here, data can be many different things:\n",
        "\n",
        "*   a Python dict\n",
        "*   an ndarray\n",
        "*   a scalar value (like 5)\n",
        "\n",
        "---\n",
        "\n",
        "The passed index is a list of axis labels. Thus, this separates into a few cases depending on **what data is:**\n",
        "\n",
        "---\n",
        "\n"
      ]
    },
    {
      "cell_type": "markdown",
      "metadata": {
        "id": "jrXxzYCKxZPG",
        "colab_type": "text"
      },
      "source": [
        "**Create a Series from ndarray**\n",
        "\n",
        "If data is an ndarray, index must be the same length as data. If no index is passed, one will be created having values [0, ..., len(data) - 1]. or [0,...., n-1]\n",
        "\n",
        "---\n",
        "\n",
        "Example1: "
      ]
    },
    {
      "cell_type": "code",
      "metadata": {
        "id": "8SMSSUFzshYN",
        "colab_type": "code",
        "outputId": "a5ab6592-d7ee-45ef-c367-0e22b6f47fae",
        "colab": {
          "base_uri": "https://localhost:8080/",
          "height": 119
        }
      },
      "source": [
        "import pandas as pd\n",
        "import numpy as np\n",
        "\n",
        "arr = np.array([10,20,30,40,50])\n",
        "\n",
        "s = pd.Series(arr)\n",
        "\n",
        "print(s)"
      ],
      "execution_count": 0,
      "outputs": [
        {
          "output_type": "stream",
          "text": [
            "0    10\n",
            "1    20\n",
            "2    30\n",
            "3    40\n",
            "4    50\n",
            "dtype: int64\n"
          ],
          "name": "stdout"
        }
      ]
    },
    {
      "cell_type": "markdown",
      "metadata": {
        "id": "r05NnFqYyJY2",
        "colab_type": "text"
      },
      "source": [
        "Example2:\n",
        "\n",
        "---\n",
        "\n"
      ]
    },
    {
      "cell_type": "code",
      "metadata": {
        "id": "cW0KDXDTyLip",
        "colab_type": "code",
        "outputId": "18ca53c2-d198-43ca-cabe-f31f83e95eed",
        "colab": {
          "base_uri": "https://localhost:8080/",
          "height": 119
        }
      },
      "source": [
        "s = pd.Series(np.random.randn(5), index=['a', 'b', 'c', 'd', 'e'])\n",
        "print(s)"
      ],
      "execution_count": 0,
      "outputs": [
        {
          "output_type": "stream",
          "text": [
            "a    1.830376\n",
            "b    0.456866\n",
            "c    1.160127\n",
            "d   -0.008266\n",
            "e    0.754565\n",
            "dtype: float64\n"
          ],
          "name": "stdout"
        }
      ]
    },
    {
      "cell_type": "code",
      "metadata": {
        "id": "LrYd4xl5yfNm",
        "colab_type": "code",
        "outputId": "32597bd6-42bd-45a2-f7a7-da4617ce7897",
        "colab": {
          "base_uri": "https://localhost:8080/",
          "height": 34
        }
      },
      "source": [
        "print(s.index)"
      ],
      "execution_count": 0,
      "outputs": [
        {
          "output_type": "stream",
          "text": [
            "Index(['a', 'b', 'c', 'd', 'e'], dtype='object')\n"
          ],
          "name": "stdout"
        }
      ]
    },
    {
      "cell_type": "markdown",
      "metadata": {
        "id": "gddJAtI5yUym",
        "colab_type": "text"
      },
      "source": [
        "**Creating a Series from a Python dictionary (dict):**\n",
        "\n",
        "---\n",
        "\n",
        "Example1:"
      ]
    },
    {
      "cell_type": "code",
      "metadata": {
        "id": "Y62kPmvFy4u_",
        "colab_type": "code",
        "outputId": "60959a12-9846-4417-e4bb-35d1e2e31a9e",
        "colab": {
          "base_uri": "https://localhost:8080/",
          "height": 85
        }
      },
      "source": [
        "import pandas as pd\n",
        "\n",
        "data = {'a':10, 'b':20, 'c':30}\n",
        "s = pd.Series(data)\n",
        "print(s)"
      ],
      "execution_count": 0,
      "outputs": [
        {
          "output_type": "stream",
          "text": [
            "a    10\n",
            "b    20\n",
            "c    30\n",
            "dtype: int64\n"
          ],
          "name": "stdout"
        }
      ]
    },
    {
      "cell_type": "code",
      "metadata": {
        "id": "0-0bo3I1zoEp",
        "colab_type": "code",
        "outputId": "ef7bfef0-0142-4f42-a58f-f13116e165e2",
        "colab": {
          "base_uri": "https://localhost:8080/",
          "height": 119
        }
      },
      "source": [
        "import pandas\n",
        "dict = {'a': 0., 'b': 1., 'c': 2.}\n",
        "print(dict)\n",
        "\n",
        "s = pandas.Series(dict, index=['b', 'c', 'd', 'a'])\n",
        "print(s)"
      ],
      "execution_count": 0,
      "outputs": [
        {
          "output_type": "stream",
          "text": [
            "{'a': 0.0, 'b': 1.0, 'c': 2.0}\n",
            "b    1.0\n",
            "c    2.0\n",
            "d    NaN\n",
            "a    0.0\n",
            "dtype: float64\n"
          ],
          "name": "stdout"
        }
      ]
    },
    {
      "cell_type": "markdown",
      "metadata": {
        "id": "nNPW5JhVzKZd",
        "colab_type": "text"
      },
      "source": [
        "**Note:** NaN (not a number) is the standard missing data marker used in pandas."
      ]
    },
    {
      "cell_type": "markdown",
      "metadata": {
        "id": "nz_7rRgf0Zg_",
        "colab_type": "text"
      },
      "source": [
        "**Creating Series from scalar value**\n",
        "\n",
        "If data is a scalar value, an index must be provided. The value will be repeated to match the length of index.\n",
        "\n",
        "---\n",
        "\n",
        "Example1:"
      ]
    },
    {
      "cell_type": "code",
      "metadata": {
        "id": "t23gm-bw0gfs",
        "colab_type": "code",
        "outputId": "ac396bcb-ccba-4f5d-f572-fb8a0a44676c",
        "colab": {
          "base_uri": "https://localhost:8080/",
          "height": 119
        }
      },
      "source": [
        "s= pd.Series(5., index=['a', 'b', 'c', 'd', 'e'])\n",
        "print(s)"
      ],
      "execution_count": 0,
      "outputs": [
        {
          "output_type": "stream",
          "text": [
            "a    5.0\n",
            "b    5.0\n",
            "c    5.0\n",
            "d    5.0\n",
            "e    5.0\n",
            "dtype: float64\n"
          ],
          "name": "stdout"
        }
      ]
    },
    {
      "cell_type": "markdown",
      "metadata": {
        "id": "qqKlIZW41gKy",
        "colab_type": "text"
      },
      "source": [
        "**Accessing Data from a Series:**\n",
        "\n",
        "---\n",
        "\n",
        "**Slicing:** Retrieving a part of the series using slicing.\n",
        "\n",
        "Series acts very similarly to a ndarray, and is a valid argument to most NumPy functions. However, operations such as slicing will also **slice the index**.\n",
        "\n",
        "--- \n",
        "\n",
        "Example:\n"
      ]
    },
    {
      "cell_type": "code",
      "metadata": {
        "id": "OR17Cah62DlG",
        "colab_type": "code",
        "outputId": "572f254a-a7a7-4327-8dcd-129fc2d1458d",
        "colab": {
          "base_uri": "https://localhost:8080/",
          "height": 357
        }
      },
      "source": [
        "import pandas as pd\n",
        "import numpy as np\n",
        "\n",
        "arr = ([10,20,30,40,50])\n",
        "s = pd.Series(arr)\n",
        "\n",
        "print(s)\n",
        "\n",
        "# slicing or slice of index\n",
        "\n",
        "print(s[1])\n",
        "print(s[0:5])\n",
        "print(s[::-1]) #Reverse the series\n",
        "print([[2,4,5]])"
      ],
      "execution_count": 0,
      "outputs": [
        {
          "output_type": "stream",
          "text": [
            "0    10\n",
            "1    20\n",
            "2    30\n",
            "3    40\n",
            "4    50\n",
            "dtype: int64\n",
            "20\n",
            "0    10\n",
            "1    20\n",
            "2    30\n",
            "3    40\n",
            "4    50\n",
            "dtype: int64\n",
            "4    50\n",
            "3    40\n",
            "2    30\n",
            "1    20\n",
            "0    10\n",
            "dtype: int64\n",
            "[[2, 4, 5]]\n"
          ],
          "name": "stdout"
        }
      ]
    },
    {
      "cell_type": "markdown",
      "metadata": {
        "id": "4jxbbfRt5xGf",
        "colab_type": "text"
      },
      "source": [
        "Access Series is **dict-like**\n",
        "\n",
        "\n",
        "---\n",
        "\n",
        "\n",
        "A Series is like a fixed-size dict in that you can get and set values by index label:"
      ]
    },
    {
      "cell_type": "code",
      "metadata": {
        "id": "4cPA0V7T5wtY",
        "colab_type": "code",
        "outputId": "0076a454-7220-442e-812d-5546831ca0cd",
        "colab": {
          "base_uri": "https://localhost:8080/",
          "height": 102
        }
      },
      "source": [
        "import pandas as pd\n",
        "\n",
        "data = {'a':10, 'b':20, 'c':30}\n",
        "s = pd.Series(data)\n",
        "print(s)\n",
        "\n",
        "print(s['a']) #Accessing index value assign key \n"
      ],
      "execution_count": 0,
      "outputs": [
        {
          "output_type": "stream",
          "text": [
            "a    10\n",
            "b    20\n",
            "c    30\n",
            "dtype: int64\n",
            "10\n"
          ],
          "name": "stdout"
        }
      ]
    },
    {
      "cell_type": "markdown",
      "metadata": {
        "id": "ufKgrvLX7b0Q",
        "colab_type": "text"
      },
      "source": [
        "**Vectorized operations and label alignment with Series**"
      ]
    },
    {
      "cell_type": "code",
      "metadata": {
        "id": "qz-Ab5hz7dh_",
        "colab_type": "code",
        "outputId": "109a4594-d675-404f-8ca3-89cfb6a5cb1b",
        "colab": {
          "base_uri": "https://localhost:8080/",
          "height": 221
        }
      },
      "source": [
        "print (s + s) #Addition of two series\n",
        "\n",
        "print(s*2) #Multiplication of two series\n",
        "\n",
        "print(np.exp(s)) #Exponential value \n",
        "\n"
      ],
      "execution_count": 0,
      "outputs": [
        {
          "output_type": "stream",
          "text": [
            "a    20\n",
            "b    40\n",
            "c    60\n",
            "dtype: int64\n",
            "a    20\n",
            "b    40\n",
            "c    60\n",
            "dtype: int64\n",
            "a    2.202647e+04\n",
            "b    4.851652e+08\n",
            "c    1.068647e+13\n",
            "dtype: float64\n"
          ],
          "name": "stdout"
        }
      ]
    },
    {
      "cell_type": "markdown",
      "metadata": {
        "id": "8k0tdbxF8JO0",
        "colab_type": "text"
      },
      "source": [
        "**Name attribute**\n",
        "\n",
        "Series can also have a name attribute:\n",
        "\n",
        "\n",
        "---\n",
        "\n",
        "Example:\n"
      ]
    },
    {
      "cell_type": "code",
      "metadata": {
        "id": "MiPnoHqQ8RvG",
        "colab_type": "code",
        "outputId": "cfb19290-d651-4426-d18a-c6de5baab584",
        "colab": {
          "base_uri": "https://localhost:8080/",
          "height": 119
        }
      },
      "source": [
        "s = pd.Series(np.random.randn(5), name='something')\n",
        "print(s)"
      ],
      "execution_count": 0,
      "outputs": [
        {
          "output_type": "stream",
          "text": [
            "0    2.967709\n",
            "1    0.073752\n",
            "2   -0.639722\n",
            "3    0.027365\n",
            "4   -0.301899\n",
            "Name: something, dtype: float64\n"
          ],
          "name": "stdout"
        }
      ]
    },
    {
      "cell_type": "markdown",
      "metadata": {
        "id": "gphMK4238cHS",
        "colab_type": "text"
      },
      "source": [
        "You can rename a Series with the pandas.Series.rename() method."
      ]
    },
    {
      "cell_type": "code",
      "metadata": {
        "id": "wVOjr9ZV8crq",
        "colab_type": "code",
        "outputId": "3a8086e5-4808-40fb-a13b-be72e01a5035",
        "colab": {
          "base_uri": "https://localhost:8080/",
          "height": 119
        }
      },
      "source": [
        "s2 = s.rename(\"different\")\n",
        "print(s2)"
      ],
      "execution_count": 0,
      "outputs": [
        {
          "output_type": "stream",
          "text": [
            "0    2.967709\n",
            "1    0.073752\n",
            "2   -0.639722\n",
            "3    0.027365\n",
            "4   -0.301899\n",
            "Name: different, dtype: float64\n"
          ],
          "name": "stdout"
        }
      ]
    },
    {
      "cell_type": "markdown",
      "metadata": {
        "id": "AUTeLpJc8lev",
        "colab_type": "text"
      },
      "source": [
        "# Data Frame\n",
        "\n",
        "**A Data Frame** is a **2D data structure** in which data is aligned in a tabular fashion consisting of **rows and columns**\n",
        "\n",
        "A Data Frame can be created using the following constructor:\n",
        "\n",
        "df = pandas.DataFrame(data, index, dtype, copy)\n",
        "\n",
        "---\n",
        "\n",
        "DataFrame accepts many different kinds of input:\n",
        "\n",
        "*   Dict of 1D ndarrays, lists, dicts, or Series\n",
        "*   2-D numpy.ndarray\n",
        "*   Structured or record ndarray\n",
        "*   A Series\n",
        "*   Another DataFrame\n",
        "\n",
        "Along with the data, you can optionally pass index (row labels) and columns (column labels) arguments.\n",
        "\n",
        "---\n",
        "\n"
      ]
    },
    {
      "cell_type": "markdown",
      "metadata": {
        "id": "Bc-ikahY-JBP",
        "colab_type": "text"
      },
      "source": [
        "**Creating a Data Frame using List**\n",
        "\n",
        "---\n",
        "\n",
        "Converting **list** into** Data Frame**"
      ]
    },
    {
      "cell_type": "code",
      "metadata": {
        "id": "NDVn57wL9_by",
        "colab_type": "code",
        "outputId": "a304030c-51de-4a78-c693-4d81a002a5c1",
        "colab": {
          "base_uri": "https://localhost:8080/",
          "height": 119
        }
      },
      "source": [
        "import pandas\n",
        "\n",
        "listx = [10, 20, 30, 40, 50]\n",
        "\n",
        "table = pandas.DataFrame(listx)\n",
        "\n",
        "print (table)"
      ],
      "execution_count": 0,
      "outputs": [
        {
          "output_type": "stream",
          "text": [
            "    0\n",
            "0  10\n",
            "1  20\n",
            "2  30\n",
            "3  40\n",
            "4  50\n"
          ],
          "name": "stdout"
        }
      ]
    },
    {
      "cell_type": "markdown",
      "metadata": {
        "id": "dosH6hh7-2r5",
        "colab_type": "text"
      },
      "source": [
        "**Creating a Data Frame from a list of dictionary**\n",
        "\n",
        "---\n",
        "\n"
      ]
    },
    {
      "cell_type": "code",
      "metadata": {
        "id": "hZUhA9hX-8gH",
        "colab_type": "code",
        "outputId": "0aa069f3-f4b7-4065-cd08-e1958624a9c1",
        "colab": {
          "base_uri": "https://localhost:8080/",
          "height": 68
        }
      },
      "source": [
        "import pandas\n",
        "data_list = [{'a':10, 'b':20},{'a':20, 'b':30,'c':40}]\n",
        "table = pandas.DataFrame(data_list, index = ['first','second'])\n",
        "print(table)"
      ],
      "execution_count": 0,
      "outputs": [
        {
          "output_type": "stream",
          "text": [
            "         a   b     c\n",
            "first   10  20   NaN\n",
            "second  20  30  40.0\n"
          ],
          "name": "stdout"
        }
      ]
    },
    {
      "cell_type": "markdown",
      "metadata": {
        "id": "XLFDPSTuIvkG",
        "colab_type": "text"
      },
      "source": [
        "**Converting a dictionary of series into a Data Frame:**"
      ]
    },
    {
      "cell_type": "code",
      "metadata": {
        "id": "cfE0wXjGBEQ7",
        "colab_type": "code",
        "outputId": "dbf9f203-4cc8-4d46-f0ab-b055c6254d71",
        "colab": {
          "base_uri": "https://localhost:8080/",
          "height": 272
        }
      },
      "source": [
        "d = {'one': pd.Series([1., 2., 3.], index=['a', 'b', 'c']),'two': pd.Series([1., 2., 3., 4.], index=['a', 'b', 'c', 'd'])}\n",
        "df = pandas.DataFrame(d)\n",
        "print(df)\n",
        "print(\"---------------------------------------\")\n",
        "\n",
        "# Access Column \n",
        "\n",
        "df2 = pd.DataFrame(d, index=['d', 'b', 'a'])\n",
        "\n",
        "print(df2)\n",
        "print(\"---------------------------------------\")\n",
        "# Access index (Row) and column\n",
        "\n",
        "df = pd.DataFrame(d, index=['d', 'b', 'a'], columns=['two', 'three'])\n",
        "print(df)\n",
        "\n",
        "#Note: The row and column labels can be accessed respectively by accessing the index and columns attributes."
      ],
      "execution_count": 0,
      "outputs": [
        {
          "output_type": "stream",
          "text": [
            "   one  two\n",
            "a  1.0  1.0\n",
            "b  2.0  2.0\n",
            "c  3.0  3.0\n",
            "d  NaN  4.0\n",
            "---------------------------------------\n",
            "   one  two\n",
            "d  NaN  4.0\n",
            "b  2.0  2.0\n",
            "a  1.0  1.0\n",
            "---------------------------------------\n",
            "   two three\n",
            "d  4.0   NaN\n",
            "b  2.0   NaN\n",
            "a  1.0   NaN\n"
          ],
          "name": "stdout"
        }
      ]
    },
    {
      "cell_type": "markdown",
      "metadata": {
        "id": "V2ABhjNGIMX4",
        "colab_type": "text"
      },
      "source": [
        "**Note:** When a particular set of columns is passed along with a dict of data, the passed columns override the keys in the dict.\n",
        "\n",
        "---\n",
        "\n"
      ]
    },
    {
      "cell_type": "markdown",
      "metadata": {
        "id": "CaTTYyhPIOm4",
        "colab_type": "text"
      },
      "source": [
        "**Creating Data Frame From a list of dicts:**"
      ]
    },
    {
      "cell_type": "code",
      "metadata": {
        "id": "BT1QTqpdJajL",
        "colab_type": "code",
        "outputId": "e804d65f-4771-43ca-b22a-b1a8bd7c6ca5",
        "colab": {
          "base_uri": "https://localhost:8080/",
          "height": 68
        }
      },
      "source": [
        "import pandas as pd\n",
        "\n",
        "data2 = [{'a': 1, 'b': 2}, {'a': 5, 'b': 10, 'c': 20}]\n",
        "table = pd.DataFrame(data2)\n",
        "print(table)"
      ],
      "execution_count": 0,
      "outputs": [
        {
          "output_type": "stream",
          "text": [
            "   a   b     c\n",
            "0  1   2   NaN\n",
            "1  5  10  20.0\n"
          ],
          "name": "stdout"
        }
      ]
    },
    {
      "cell_type": "markdown",
      "metadata": {
        "id": "vfwn8SDiKd3o",
        "colab_type": "text"
      },
      "source": [
        "**Column selection, addition, deletion**\n",
        "\n",
        "\n",
        "---\n",
        "\n",
        "Add New Column in existing Data Frame"
      ]
    },
    {
      "cell_type": "code",
      "metadata": {
        "id": "0csmfUavKhkt",
        "colab_type": "code",
        "outputId": "6e7b91e4-696d-4a64-d608-c0fcc91b6e9b",
        "colab": {
          "base_uri": "https://localhost:8080/",
          "height": 204
        }
      },
      "source": [
        "import pandas as pd\n",
        "\n",
        "d = {'one': pd.Series([1, 2, 3], index=['a', 'b', 'c']),\n",
        "     'two': pd.Series([1., 2., 3., 4.], index=['a', 'b', 'c', 'd'])}\n",
        "table = pandas.DataFrame(d)\n",
        "\n",
        "#Adding new column\n",
        "\n",
        "table[\"three\"] = pd.Series([1, 2, 3], index = ['a', 'b', 'c'])\n",
        "\n",
        "print(table)\n",
        "\n",
        "print(\"---------------------------------------------\")\n",
        "#Adding new column with boolen values\n",
        "\n",
        "table['flag'] = table[\"three\"]>2\n",
        "\n",
        "print(table)"
      ],
      "execution_count": 0,
      "outputs": [
        {
          "output_type": "stream",
          "text": [
            "   one  two  three\n",
            "a  1.0  1.0    1.0\n",
            "b  2.0  2.0    2.0\n",
            "c  3.0  3.0    3.0\n",
            "d  NaN  4.0    NaN\n",
            "---------------------------------------------\n",
            "   one  two  three   flag\n",
            "a  1.0  1.0    1.0  False\n",
            "b  2.0  2.0    2.0  False\n",
            "c  3.0  3.0    3.0   True\n",
            "d  NaN  4.0    NaN  False\n"
          ],
          "name": "stdout"
        }
      ]
    },
    {
      "cell_type": "markdown",
      "metadata": {
        "id": "28YdRyoANM_p",
        "colab_type": "text"
      },
      "source": [
        "**Columns can be deleted or popped like with a dict:**\n",
        "\n",
        "---\n",
        "\n",
        "Data Frame column can be deleted using  the **del () function:**"
      ]
    },
    {
      "cell_type": "code",
      "metadata": {
        "id": "28sFxjzHNL81",
        "colab_type": "code",
        "outputId": "f508d5b0-0153-4b71-f6d2-5f72ee2f22f3",
        "colab": {
          "base_uri": "https://localhost:8080/",
          "height": 102
        }
      },
      "source": [
        "del table['two']\n",
        "print(table)"
      ],
      "execution_count": 0,
      "outputs": [
        {
          "output_type": "stream",
          "text": [
            "   one  three   flag\n",
            "a  1.0    1.0  False\n",
            "b  2.0    2.0  False\n",
            "c  3.0    3.0   True\n",
            "d  NaN    NaN  False\n"
          ],
          "name": "stdout"
        }
      ]
    },
    {
      "cell_type": "markdown",
      "metadata": {
        "id": "UaLy0kYiNp9Y",
        "colab_type": "text"
      },
      "source": [
        "Data Frame Column can be deleted using the **pop() function**:\n",
        "\n",
        "---\n",
        "\n",
        "**pop()** methond is an inbuilt function in Python that removes and returns last value from the list or the given index value."
      ]
    },
    {
      "cell_type": "code",
      "metadata": {
        "id": "QJiCcAmBN_zW",
        "colab_type": "code",
        "outputId": "8e75f985-e65d-4237-97bc-1b8af38992d0",
        "colab": {
          "base_uri": "https://localhost:8080/",
          "height": 187
        }
      },
      "source": [
        "three = table.pop('three')\n",
        "\n",
        "print(three)\n",
        "\n",
        "print(table)"
      ],
      "execution_count": 0,
      "outputs": [
        {
          "output_type": "stream",
          "text": [
            "a    1.0\n",
            "b    2.0\n",
            "c    3.0\n",
            "d    NaN\n",
            "Name: three, dtype: float64\n",
            "   one   flag\n",
            "a  1.0  False\n",
            "b  2.0  False\n",
            "c  3.0   True\n",
            "d  NaN  False\n"
          ],
          "name": "stdout"
        }
      ]
    },
    {
      "cell_type": "markdown",
      "metadata": {
        "id": "-3maZhF1O3Rt",
        "colab_type": "text"
      },
      "source": [
        "When inserting **a scalar value**, it will naturally be propagated to fill the column:\n",
        "\n",
        "---\n",
        "\n"
      ]
    },
    {
      "cell_type": "code",
      "metadata": {
        "id": "LnIWT8rtO4Qx",
        "colab_type": "code",
        "outputId": "9caffb5e-0bef-4794-e967-d8d44cfc2c3d",
        "colab": {
          "base_uri": "https://localhost:8080/",
          "height": 102
        }
      },
      "source": [
        "table[\"foo\"] = \"bar\"\n",
        "print(table)"
      ],
      "execution_count": 0,
      "outputs": [
        {
          "output_type": "stream",
          "text": [
            "   one   flag  foo\n",
            "a  1.0  False  bar\n",
            "b  2.0  False  bar\n",
            "c  3.0   True  bar\n",
            "d  NaN  False  bar\n"
          ],
          "name": "stdout"
        }
      ]
    },
    {
      "cell_type": "markdown",
      "metadata": {
        "id": "OjDNTwqiP8z5",
        "colab_type": "text"
      },
      "source": [
        "**Indexing / Selection**\n",
        "\n",
        "---\n",
        "\n",
        "**The basics of indexing are as follows:**\n",
        "\n",
        "\n",
        "---\n",
        "\n",
        "**Operation\t      -->    Syntax\t       -->         Result**\n",
        "\n",
        "---\n",
        "\n",
        "Select column\t    -->** df[col]**\t--> Series\n",
        "\n",
        "Select row by label\t--> **df.loc[label]**\t--> Series\n",
        "\n",
        "Select row by integer location -->\t**df.iloc[loc]**\t--> Series\n",
        "\n",
        "Slice rows\t--> **df[5:10]\t**--> DataFrame\n",
        "\n",
        "Select rows by boolean vector\t--> **df[bool_vec]**\t--> DataFrame\n",
        "\n",
        "---\n",
        "\n",
        "Example : Row selection, for example, returns a Series whose index is the columns of the DataFrame:"
      ]
    },
    {
      "cell_type": "code",
      "metadata": {
        "id": "tX_KMEg3QjBh",
        "colab_type": "code",
        "outputId": "24ca11b1-96a7-4694-d215-05766fd33657",
        "colab": {
          "base_uri": "https://localhost:8080/",
          "height": 85
        }
      },
      "source": [
        "table.loc['a']"
      ],
      "execution_count": 0,
      "outputs": [
        {
          "output_type": "execute_result",
          "data": {
            "text/plain": [
              "one         1\n",
              "flag    False\n",
              "foo       bar\n",
              "Name: a, dtype: object"
            ]
          },
          "metadata": {
            "tags": []
          },
          "execution_count": 72
        }
      ]
    },
    {
      "cell_type": "code",
      "metadata": {
        "id": "HQh8Bpn_Rm8I",
        "colab_type": "code",
        "outputId": "72f6234f-fa5f-49cd-c43c-0ba869f89fde",
        "colab": {
          "base_uri": "https://localhost:8080/",
          "height": 85
        }
      },
      "source": [
        "table.iloc[2]"
      ],
      "execution_count": 0,
      "outputs": [
        {
          "output_type": "execute_result",
          "data": {
            "text/plain": [
              "one        3\n",
              "flag    True\n",
              "foo      bar\n",
              "Name: c, dtype: object"
            ]
          },
          "metadata": {
            "tags": []
          },
          "execution_count": 73
        }
      ]
    },
    {
      "cell_type": "markdown",
      "metadata": {
        "id": "nYR6Q9U4SAYa",
        "colab_type": "text"
      },
      "source": [
        "**Data Frame - Row Addtion:**\n",
        "\n",
        "---\n",
        "\n",
        "The **append() function **can be used to add one or more rows into the Data Frame\n"
      ]
    },
    {
      "cell_type": "code",
      "metadata": {
        "id": "5ztviMLeSUUY",
        "colab_type": "code",
        "outputId": "a4ecaf4d-0e29-450b-f336-ed0d335d7d93",
        "colab": {
          "base_uri": "https://localhost:8080/",
          "height": 238
        }
      },
      "source": [
        "print(table)\n",
        "print(\"----------------------------------------\")\n",
        "row = pd.DataFrame([[1,'True'],[3,'False']], columns = ['one','flag'])\n",
        "table1= table.append(row)\n",
        "print(table1)"
      ],
      "execution_count": 0,
      "outputs": [
        {
          "output_type": "stream",
          "text": [
            "   one   flag  foo\n",
            "a  1.0  False  bar\n",
            "b  2.0  False  bar\n",
            "c  3.0   True  bar\n",
            "d  NaN  False  bar\n",
            "----------------------------------------\n",
            "    flag  foo  one\n",
            "a  False  bar  1.0\n",
            "b  False  bar  2.0\n",
            "c   True  bar  3.0\n",
            "d  False  bar  NaN\n",
            "0   True  NaN  1.0\n",
            "1  False  NaN  3.0\n"
          ],
          "name": "stdout"
        }
      ]
    },
    {
      "cell_type": "markdown",
      "metadata": {
        "id": "1n5GsUFkT7zX",
        "colab_type": "text"
      },
      "source": [
        "**Data Frame - Row Deletion:**\n",
        "\n",
        "---\n",
        "\n",
        "The drop() function can be used to drop rows whose labels are provided\n"
      ]
    },
    {
      "cell_type": "code",
      "metadata": {
        "id": "txrBJSySUINs",
        "colab_type": "code",
        "outputId": "bca3fcc5-fb99-4f82-8446-fc84172d1a60",
        "colab": {
          "base_uri": "https://localhost:8080/",
          "height": 119
        }
      },
      "source": [
        "table1 = table1.drop('d')\n",
        "print(table1)"
      ],
      "execution_count": 0,
      "outputs": [
        {
          "output_type": "stream",
          "text": [
            "    flag  foo  one\n",
            "a  False  bar  1.0\n",
            "b  False  bar  2.0\n",
            "c   True  bar  3.0\n",
            "0   True  NaN  1.0\n",
            "1  False  NaN  3.0\n"
          ],
          "name": "stdout"
        }
      ]
    },
    {
      "cell_type": "markdown",
      "metadata": {
        "id": "hnhg5E5LUh0g",
        "colab_type": "text"
      },
      "source": [
        "**Data alignment and arithmetic:**\n",
        "\n",
        "---\n",
        "\n",
        "Data alignment between DataFrame objects automatically align on both the columns and the index (row labels). Again, the resulting object will have the union of the column and row labels."
      ]
    },
    {
      "cell_type": "code",
      "metadata": {
        "id": "CH5L8NqTUog3",
        "colab_type": "code",
        "outputId": "0cc77229-f397-45a3-85e3-a5beeb9a3000",
        "colab": {
          "base_uri": "https://localhost:8080/",
          "height": 204
        }
      },
      "source": [
        "df = pd.DataFrame(np.random.randn(10, 4), columns=['A', 'B', 'C', 'D'])\n",
        "\n",
        "df2 = pd.DataFrame(np.random.randn(7, 3), columns=['A', 'B', 'C'])\n",
        "\n",
        "print(df + df2)"
      ],
      "execution_count": 0,
      "outputs": [
        {
          "output_type": "stream",
          "text": [
            "          A         B         C   D\n",
            "0 -2.565289  1.787026  0.948796 NaN\n",
            "1  1.137447  2.679988 -0.086896 NaN\n",
            "2  1.023824  5.008005  0.761682 NaN\n",
            "3  1.471461  2.219874  1.705523 NaN\n",
            "4  1.600869 -0.535285 -0.444800 NaN\n",
            "5 -1.463714  1.335283 -0.062675 NaN\n",
            "6 -2.608568 -0.023066  0.294771 NaN\n",
            "7       NaN       NaN       NaN NaN\n",
            "8       NaN       NaN       NaN NaN\n",
            "9       NaN       NaN       NaN NaN\n"
          ],
          "name": "stdout"
        }
      ]
    },
    {
      "cell_type": "markdown",
      "metadata": {
        "id": "IWS_smHNVHIL",
        "colab_type": "text"
      },
      "source": [
        "When doing an operation between DataFrame and Series, the default behavior is to align the Series index on the DataFrame columns, thus broadcasting row-wise. For example:"
      ]
    },
    {
      "cell_type": "code",
      "metadata": {
        "id": "em2jaY93VI-q",
        "colab_type": "code",
        "outputId": "2b1bf2b4-054d-45fd-8e05-900961c1b6a1",
        "colab": {
          "base_uri": "https://localhost:8080/",
          "height": 204
        }
      },
      "source": [
        "print(df - df.iloc[0])"
      ],
      "execution_count": 0,
      "outputs": [
        {
          "output_type": "stream",
          "text": [
            "          A         B         C         D\n",
            "0  0.000000  0.000000  0.000000  0.000000\n",
            "1  1.820425  1.693241 -1.797476  0.589538\n",
            "2  0.372968  1.620883  0.026293  0.126685\n",
            "3  1.096899  0.107548 -0.937305  1.931768\n",
            "4  1.661470 -1.432305 -0.965407  0.281767\n",
            "5 -1.263498  1.505922  0.113657 -0.232598\n",
            "6 -0.539878 -0.337395 -0.174870  2.082512\n",
            "7  0.665459  0.847926 -0.706562 -0.974827\n",
            "8  0.158647  1.019152 -0.935310  3.216164\n",
            "9  2.017132  0.900415 -1.090686  2.248355\n"
          ],
          "name": "stdout"
        }
      ]
    },
    {
      "cell_type": "markdown",
      "metadata": {
        "id": "-D0LPaBmVk8y",
        "colab_type": "text"
      },
      "source": [
        "**Transposing**\n",
        "\n",
        "---\n",
        "\n",
        "To transpose, access the T attribute (also the transpose function), similar to an ndarray:"
      ]
    },
    {
      "cell_type": "code",
      "metadata": {
        "id": "ub_ROnsGVmYE",
        "colab_type": "code",
        "outputId": "3237819a-4167-4dd9-a3a9-a260746116bb",
        "colab": {
          "base_uri": "https://localhost:8080/",
          "height": 102
        }
      },
      "source": [
        "print(df[:5].T)"
      ],
      "execution_count": 0,
      "outputs": [
        {
          "output_type": "stream",
          "text": [
            "          0         1         2         3         4\n",
            "A -0.414549  1.405876 -0.041582  0.682350  1.246921\n",
            "B  0.469634  2.162874  2.090517  0.577182 -0.962671\n",
            "C  0.713379 -1.084097  0.739672 -0.223926 -0.252028\n",
            "D -0.985655 -0.396116 -0.858970  0.946113 -0.703888\n"
          ],
          "name": "stdout"
        }
      ]
    },
    {
      "cell_type": "markdown",
      "metadata": {
        "id": "QUbd9JflV8nq",
        "colab_type": "text"
      },
      "source": [
        "**Loading CSV data into Data Frame:**\n",
        "\n",
        "---\n",
        "\n",
        "Data can be loaded into DataFrames from input data stored in the CSV fromat using the **read csv() fucntion**"
      ]
    },
    {
      "cell_type": "code",
      "metadata": {
        "id": "QNYwlwbXWSG9",
        "colab_type": "code",
        "colab": {}
      },
      "source": [
        "df = pandas.read_csv(path_to_file)"
      ],
      "execution_count": 0,
      "outputs": []
    },
    {
      "cell_type": "markdown",
      "metadata": {
        "id": "f0sm5AZ4Wals",
        "colab_type": "text"
      },
      "source": [
        "**Storing Data into CSV File:**\n",
        "\n",
        "---\n",
        "\n",
        "Data present in DataFrames can be written to a CSV file using to the ***to_csv() function***\n"
      ]
    },
    {
      "cell_type": "code",
      "metadata": {
        "id": "9f1XO_yZWw6s",
        "colab_type": "code",
        "colab": {}
      },
      "source": [
        "table.to_csv(path_to_file) # if the specified path doesn't exist, a file of the same is automatically created."
      ],
      "execution_count": 0,
      "outputs": []
    },
    {
      "cell_type": "markdown",
      "metadata": {
        "id": "2yEktyDiXMtm",
        "colab_type": "text"
      },
      "source": [
        "**Loading Excel Sheet data in to Pandas's Data Frame**\n",
        "\n",
        "---\n",
        "\n",
        "Data can be loaded into DataFrames from input data stored in the Excel Sheet format using **read_excel() function**"
      ]
    },
    {
      "cell_type": "code",
      "metadata": {
        "id": "dq9uSNyiXgMi",
        "colab_type": "code",
        "colab": {}
      },
      "source": [
        "sheet = pandas.read_excel(path_to_file)"
      ],
      "execution_count": 0,
      "outputs": []
    },
    {
      "cell_type": "markdown",
      "metadata": {
        "id": "gSTmyDdkXuk2",
        "colab_type": "text"
      },
      "source": [
        "**Storing Data into Excel File:**\n",
        "\n",
        "---\n",
        "\n",
        "Data present in DataFrames can be written to a Excel file using to the ***to_excel() function***"
      ]
    },
    {
      "cell_type": "code",
      "metadata": {
        "id": "yebGdxBJX2el",
        "colab_type": "code",
        "colab": {}
      },
      "source": [
        "table.to_excel(path_to_file) # if the specified path doesn't exist, a file of the same is automatically created."
      ],
      "execution_count": 0,
      "outputs": []
    },
    {
      "cell_type": "markdown",
      "metadata": {
        "id": "GekONAq_YUUE",
        "colab_type": "text"
      },
      "source": [
        "#Panel\n",
        "\n",
        "\n",
        "\n",
        "---\n",
        "\n",
        "Panel is a somewhat less-used, but still important container for 3-dimensional data. The term panel data is derived from econometrics and is partially responsible for the name pandas: pan(el)-da(ta)-s. The names for the 3 axes are intended to give some semantic meaning to describing operations involving panel data and, in particular, econometric analysis of panel data. However, for the strict purposes of slicing and dicing a collection of DataFrame objects, you may find the axis names slightly arbitrary:\n",
        "\n",
        "*   items: axis 0, each item corresponds to a DataFrame contained inside\n",
        "*   major_axis: axis 1, it is the index (rows) of each of the DataFrames\n",
        "*   minor_axis: axis 2, it is the columns of each of the DataFrames\n",
        "\n",
        "Construction of Panels works about like you would expect:"
      ]
    },
    {
      "cell_type": "code",
      "metadata": {
        "id": "hS0feOrLYoIB",
        "colab_type": "code",
        "outputId": "d9c1de9a-2b26-4ee7-a4e7-3236ac7b15ac",
        "colab": {
          "base_uri": "https://localhost:8080/",
          "height": 119
        }
      },
      "source": [
        "wp = pd.Panel(np.random.randn(2, 5, 4), items=['Item1', 'Item2'],\n",
        "              major_axis=pd.date_range('1/1/2000', periods=5),\n",
        "              minor_axis=['A', 'B', 'C', 'D'])\n",
        "print(wp)\n",
        "\n",
        "print(\"total dimension:\", wp.ndim)"
      ],
      "execution_count": 0,
      "outputs": [
        {
          "output_type": "stream",
          "text": [
            "<class 'pandas.core.panel.Panel'>\n",
            "Dimensions: 2 (items) x 5 (major_axis) x 4 (minor_axis)\n",
            "Items axis: Item1 to Item2\n",
            "Major_axis axis: 2000-01-01 00:00:00 to 2000-01-05 00:00:00\n",
            "Minor_axis axis: A to D\n",
            "total dimension: 3\n"
          ],
          "name": "stdout"
        }
      ]
    },
    {
      "cell_type": "markdown",
      "metadata": {
        "id": "vz_yOyyAZMj_",
        "colab_type": "text"
      },
      "source": [
        "#Essential Basic Functionality of Series\n",
        "\n",
        "---\n",
        "\n",
        "**Head() **\n",
        "\n",
        "---\n",
        "\n",
        "Head() returns the first n rowns from the data structure (Note: by defult it given top 5 rows)"
      ]
    },
    {
      "cell_type": "code",
      "metadata": {
        "id": "FPTi-AbOkDfD",
        "colab_type": "code",
        "outputId": "968a7ff5-4982-4cba-a9e8-a5c595953365",
        "colab": {
          "base_uri": "https://localhost:8080/",
          "height": 119
        }
      },
      "source": [
        "long_series = pd.Series(np.random.randn(1000))\n",
        "print(long_series.head())"
      ],
      "execution_count": 0,
      "outputs": [
        {
          "output_type": "stream",
          "text": [
            "0    0.404458\n",
            "1   -0.820980\n",
            "2   -2.103035\n",
            "3   -0.574866\n",
            "4   -0.137923\n",
            "dtype: float64\n"
          ],
          "name": "stdout"
        }
      ]
    },
    {
      "cell_type": "markdown",
      "metadata": {
        "id": "5gwnDx-Kl8Yr",
        "colab_type": "text"
      },
      "source": [
        "**Tail()**\n",
        "\n",
        "---\n",
        "\n",
        "Tail () returns the last n rowns from the data structure (Note: by defult it given last 5 rows)"
      ]
    },
    {
      "cell_type": "code",
      "metadata": {
        "id": "KGy6yGtokLzX",
        "colab_type": "code",
        "outputId": "a62090af-4f00-4031-9820-6046ed11ecff",
        "colab": {
          "base_uri": "https://localhost:8080/",
          "height": 85
        }
      },
      "source": [
        "print(long_series.tail(3))"
      ],
      "execution_count": 0,
      "outputs": [
        {
          "output_type": "stream",
          "text": [
            "997    1.007061\n",
            "998   -0.926583\n",
            "999   -1.383625\n",
            "dtype: float64\n"
          ],
          "name": "stdout"
        }
      ]
    },
    {
      "cell_type": "markdown",
      "metadata": {
        "id": "TEVVGmKrkm3A",
        "colab_type": "text"
      },
      "source": [
        "**ndim() :**\n",
        "\n",
        "---\n",
        "\n",
        "Ndim() fucntion returns the number of dimensions of the data structure\n"
      ]
    },
    {
      "cell_type": "code",
      "metadata": {
        "id": "uje3bZLhky24",
        "colab_type": "code",
        "outputId": "dae9f85d-2f22-459d-9040-f1da21dfcd59",
        "colab": {
          "base_uri": "https://localhost:8080/",
          "height": 34
        }
      },
      "source": [
        "import pandas as pd\n",
        "import numpy as np\n",
        "\n",
        "df = pd.Series(np.arange(1,51))\n",
        "\n",
        "print(df.ndim)"
      ],
      "execution_count": 0,
      "outputs": [
        {
          "output_type": "stream",
          "text": [
            "1\n"
          ],
          "name": "stdout"
        }
      ]
    },
    {
      "cell_type": "markdown",
      "metadata": {
        "id": "1C51TIHllK6s",
        "colab_type": "text"
      },
      "source": [
        "**Axes() :**\n",
        "\n",
        "---\n",
        "\n",
        "Axes() returns a list of the axes of the row labels or index labels"
      ]
    },
    {
      "cell_type": "code",
      "metadata": {
        "id": "w63AJ_RXlcIa",
        "colab_type": "code",
        "outputId": "cddb3c4f-c071-4d23-f72d-b81c97d8f9c3",
        "colab": {
          "base_uri": "https://localhost:8080/",
          "height": 34
        }
      },
      "source": [
        "import pandas as pd\n",
        "import numpy as np\n",
        "\n",
        "df = pd.Series(np.arange(1,51))\n",
        "print(df.axes)"
      ],
      "execution_count": 0,
      "outputs": [
        {
          "output_type": "stream",
          "text": [
            "[RangeIndex(start=0, stop=50, step=1)]\n"
          ],
          "name": "stdout"
        }
      ]
    },
    {
      "cell_type": "markdown",
      "metadata": {
        "id": "mGpszhhWn_c5",
        "colab_type": "text"
      },
      "source": [
        ""
      ]
    },
    {
      "cell_type": "markdown",
      "metadata": {
        "id": "BCS7UKAmo9FK",
        "colab_type": "text"
      },
      "source": [
        "#Basic Functionality of DataFrame\n",
        "\n",
        "---\n",
        "\n",
        "**Sum()**\n",
        "\n",
        "---\n",
        "\n",
        "Sum() returns the sum of the values for the requested axis"
      ]
    },
    {
      "cell_type": "code",
      "metadata": {
        "id": "ibk0OzUWpWgs",
        "colab_type": "code",
        "outputId": "602d6482-2de7-4e08-e1c6-a457f44a9786",
        "colab": {
          "base_uri": "https://localhost:8080/",
          "height": 170
        }
      },
      "source": [
        "import pandas as pd\n",
        "import numpy as np\n",
        "\n",
        "d = {'odd':np.arange(1,100,2),\n",
        "     'even':np.arange(0,100,2)}\n",
        "\n",
        "print(d['odd'])\n",
        "print(d['even'])\n",
        "\n",
        "df = pd.DataFrame(d)\n",
        "\n",
        "print(df.sum())"
      ],
      "execution_count": 0,
      "outputs": [
        {
          "output_type": "stream",
          "text": [
            "[ 1  3  5  7  9 11 13 15 17 19 21 23 25 27 29 31 33 35 37 39 41 43 45 47\n",
            " 49 51 53 55 57 59 61 63 65 67 69 71 73 75 77 79 81 83 85 87 89 91 93 95\n",
            " 97 99]\n",
            "[ 0  2  4  6  8 10 12 14 16 18 20 22 24 26 28 30 32 34 36 38 40 42 44 46\n",
            " 48 50 52 54 56 58 60 62 64 66 68 70 72 74 76 78 80 82 84 86 88 90 92 94\n",
            " 96 98]\n",
            "even    2450\n",
            "odd     2500\n",
            "dtype: int64\n"
          ],
          "name": "stdout"
        }
      ]
    },
    {
      "cell_type": "markdown",
      "metadata": {
        "id": "Mnjc__Vhqfun",
        "colab_type": "text"
      },
      "source": [
        "**Std():**\n",
        "\n",
        "---\n",
        "\n",
        "std() returns the standard deviation of the values for the requested axis\n"
      ]
    },
    {
      "cell_type": "code",
      "metadata": {
        "id": "KXnI9zz6qqes",
        "colab_type": "code",
        "outputId": "704d35c0-1766-4446-d2a1-564db97624c3",
        "colab": {
          "base_uri": "https://localhost:8080/",
          "height": 170
        }
      },
      "source": [
        "import pandas as pd\n",
        "import numpy as np\n",
        "\n",
        "d = {'odd':np.arange(1,100,2),\n",
        "     'even':np.arange(0,100,2)}\n",
        "\n",
        "print(d['odd'])\n",
        "print(d['even'])\n",
        "\n",
        "df = pd.DataFrame(d)\n",
        "\n",
        "print(df.std())"
      ],
      "execution_count": 0,
      "outputs": [
        {
          "output_type": "stream",
          "text": [
            "[ 1  3  5  7  9 11 13 15 17 19 21 23 25 27 29 31 33 35 37 39 41 43 45 47\n",
            " 49 51 53 55 57 59 61 63 65 67 69 71 73 75 77 79 81 83 85 87 89 91 93 95\n",
            " 97 99]\n",
            "[ 0  2  4  6  8 10 12 14 16 18 20 22 24 26 28 30 32 34 36 38 40 42 44 46\n",
            " 48 50 52 54 56 58 60 62 64 66 68 70 72 74 76 78 80 82 84 86 88 90 92 94\n",
            " 96 98]\n",
            "even    29.154759\n",
            "odd     29.154759\n",
            "dtype: float64\n"
          ],
          "name": "stdout"
        }
      ]
    },
    {
      "cell_type": "markdown",
      "metadata": {
        "id": "x3Qc2IRcsZbF",
        "colab_type": "text"
      },
      "source": [
        "**Describe():**\n",
        "\n",
        "---\n",
        "\n",
        "\n"
      ]
    },
    {
      "cell_type": "code",
      "metadata": {
        "id": "YsSft9cSsfiC",
        "colab_type": "code",
        "outputId": "e7195886-f23c-460e-a628-48cebde1f336",
        "colab": {
          "base_uri": "https://localhost:8080/",
          "height": 170
        }
      },
      "source": [
        "import pandas as pd\n",
        "import numpy as np\n",
        "\n",
        "d = {'odd':np.arange(1,100,2),\n",
        "     'even':np.arange(0,100,2)}\n",
        "\n",
        "# print(d['odd'])\n",
        "# print(d['even'])\n",
        "\n",
        "df = pd.DataFrame(d)\n",
        "\n",
        "print(df.describe())"
      ],
      "execution_count": 0,
      "outputs": [
        {
          "output_type": "stream",
          "text": [
            "            even        odd\n",
            "count  50.000000  50.000000\n",
            "mean   49.000000  50.000000\n",
            "std    29.154759  29.154759\n",
            "min     0.000000   1.000000\n",
            "25%    24.500000  25.500000\n",
            "50%    49.000000  50.000000\n",
            "75%    73.500000  74.500000\n",
            "max    98.000000  99.000000\n"
          ],
          "name": "stdout"
        }
      ]
    },
    {
      "cell_type": "markdown",
      "metadata": {
        "id": "-hAQlUtEtUxS",
        "colab_type": "text"
      },
      "source": [
        "**Iterating a DataFrame : Iteritem()**\n",
        "\n",
        "---\n",
        "\n",
        "iteritem() iterates over the each column as key, value pair"
      ]
    },
    {
      "cell_type": "code",
      "metadata": {
        "id": "fq7K10-Gtj2V",
        "colab_type": "code",
        "outputId": "0ba16e4a-f159-44b8-a691-80c009826134",
        "colab": {
          "base_uri": "https://localhost:8080/",
          "height": 425
        }
      },
      "source": [
        "import pandas as pd\n",
        "import numpy as np\n",
        "\n",
        "df = pd.DataFrame(np.random.rand(5,4),\n",
        "                 columns = ['col1', 'col2', 'col3', 'col4'])\n",
        "\n",
        "# print(df)\n",
        "\n",
        "for key, value in df.iteritems():\n",
        "  print(key, value)"
      ],
      "execution_count": 0,
      "outputs": [
        {
          "output_type": "stream",
          "text": [
            "col1 0    0.347366\n",
            "1    0.103036\n",
            "2    0.407164\n",
            "3    0.892615\n",
            "4    0.814948\n",
            "Name: col1, dtype: float64\n",
            "col2 0    0.362091\n",
            "1    0.116015\n",
            "2    0.130096\n",
            "3    0.406870\n",
            "4    0.669844\n",
            "Name: col2, dtype: float64\n",
            "col3 0    0.416794\n",
            "1    0.345382\n",
            "2    0.646535\n",
            "3    0.794729\n",
            "4    0.511720\n",
            "Name: col3, dtype: float64\n",
            "col4 0    0.461166\n",
            "1    0.039785\n",
            "2    0.299809\n",
            "3    0.305677\n",
            "4    0.626778\n",
            "Name: col4, dtype: float64\n"
          ],
          "name": "stdout"
        }
      ]
    },
    {
      "cell_type": "markdown",
      "metadata": {
        "id": "LBlFUKBYukbk",
        "colab_type": "text"
      },
      "source": [
        "**Iterating a DataFrame - iterrows()**\n",
        "\n",
        "\n",
        "---\n",
        "iterrows() iterates over each rows as key, value pair"
      ]
    },
    {
      "cell_type": "code",
      "metadata": {
        "id": "L3Fw8Ss2u4lq",
        "colab_type": "code",
        "outputId": "d7d23740-c954-431e-e445-8148f5361292",
        "colab": {
          "base_uri": "https://localhost:8080/",
          "height": 442
        }
      },
      "source": [
        "import pandas as pd\n",
        "import numpy as np\n",
        "\n",
        "df = pd.DataFrame(np.random.rand(5,4),\n",
        "                 columns = ['col1', 'col2', 'col3', 'col4'])\n",
        "\n",
        "# print(df)\n",
        "\n",
        "for key, value in df.iterrows():\n",
        "  print(key, value)"
      ],
      "execution_count": 0,
      "outputs": [
        {
          "output_type": "stream",
          "text": [
            "0 col1    0.997227\n",
            "col2    0.715792\n",
            "col3    0.755535\n",
            "col4    0.922561\n",
            "Name: 0, dtype: float64\n",
            "1 col1    0.966294\n",
            "col2    0.464187\n",
            "col3    0.937452\n",
            "col4    0.501882\n",
            "Name: 1, dtype: float64\n",
            "2 col1    0.523291\n",
            "col2    0.478921\n",
            "col3    0.511940\n",
            "col4    0.755952\n",
            "Name: 2, dtype: float64\n",
            "3 col1    0.577980\n",
            "col2    0.541918\n",
            "col3    0.115140\n",
            "col4    0.737888\n",
            "Name: 3, dtype: float64\n",
            "4 col1    0.989529\n",
            "col2    0.909071\n",
            "col3    0.911384\n",
            "col4    0.933799\n",
            "Name: 4, dtype: float64\n"
          ],
          "name": "stdout"
        }
      ]
    },
    {
      "cell_type": "markdown",
      "metadata": {
        "id": "zIblbxU_vAEt",
        "colab_type": "text"
      },
      "source": [
        "**Iterating a DataFrame: Itertuples() **\n",
        "\n",
        "---\n",
        "\n",
        "itertuples() returns a iterator yielding a named tuple for each row"
      ]
    },
    {
      "cell_type": "code",
      "metadata": {
        "id": "uLGTFY8_vb0d",
        "colab_type": "code",
        "outputId": "03caa833-cec7-41b1-e7a8-75c6f510002f",
        "colab": {
          "base_uri": "https://localhost:8080/",
          "height": 102
        }
      },
      "source": [
        "import pandas as pd\n",
        "import numpy as np\n",
        "\n",
        "df = pd.DataFrame(np.random.rand(5,4),\n",
        "                 columns = ['col1', 'col2', 'col3', 'col4'])\n",
        "\n",
        "# print(df)\n",
        "\n",
        "for row in df.itertuples():\n",
        "  print(row)"
      ],
      "execution_count": 0,
      "outputs": [
        {
          "output_type": "stream",
          "text": [
            "Pandas(Index=0, col1=0.3271088319508374, col2=0.8798406326592687, col3=0.5758058157330783, col4=0.4474182686536091)\n",
            "Pandas(Index=1, col1=0.8866541603650968, col2=0.8486574167062793, col3=0.959083054333319, col4=0.10082891223946777)\n",
            "Pandas(Index=2, col1=0.8811831767796888, col2=0.28974734093656584, col3=0.5021811277574298, col4=0.6033728519996625)\n",
            "Pandas(Index=3, col1=0.46900999295038115, col2=0.33052113449281495, col3=0.4328992041414724, col4=0.22658950632432695)\n",
            "Pandas(Index=4, col1=0.8749013530458443, col2=0.8659441010111678, col3=0.8855544740631585, col4=0.8095008967770386)\n"
          ],
          "name": "stdout"
        }
      ]
    },
    {
      "cell_type": "markdown",
      "metadata": {
        "id": "us00VLJKvrrf",
        "colab_type": "text"
      },
      "source": [
        "# Groupby Operations\n",
        "\n",
        "---\n",
        "\n",
        "By “group by” we are referring to a process involving one or more of the following steps:\n",
        "\n",
        " \n",
        "*   **Splitting ** the data into groups based on some criteria.\n",
        "*   **Applying ** a function to each group independently.\n",
        "*   **Combining** the results into a data structure.\n",
        "\n",
        "Out of these, the split step is the most straightforward. In fact, in many situations we may wish to split the data set into groups and do something with those groups. In the apply step, we might wish to one of the following:\n",
        "\n",
        "**Aggregation: ** compute a summary statistic (or statistics) for each group. Some examples:\n",
        "\n",
        "*   Compute group sums or means.\n",
        "*   Compute group sizes / counts.\n",
        "\n",
        "**Transformation:** perform some group-specific computations and return a like-indexed object. Some examples:\n",
        "\n",
        "*   Standardize data (zscore) within a group.\n",
        "*   Filling NAs within groups with a value derived from each group.\n",
        "\n",
        "**Filtration:** discard some groups, according to a group-wise computation that evaluates True or False. Some examples:\n",
        "\n",
        "*   Discard data that belongs to groups with only a few members.\n",
        "*   Filter out data based on the group sum or mean.\n",
        "\n",
        "---\n",
        "\n"
      ]
    },
    {
      "cell_type": "markdown",
      "metadata": {
        "id": "2ltRFxzeyXSq",
        "colab_type": "text"
      },
      "source": [
        "**Splitting an object into groups:**\n",
        "\n",
        "An objects in Pandas can be splits into multiple ones.\n",
        "\n",
        "pandas objects can be split on any of their axes. The abstract definition of grouping is to provide a mapping of labels to group names. To create a GroupBy object (more on what the GroupBy object is later), you may do the following:"
      ]
    },
    {
      "cell_type": "code",
      "metadata": {
        "id": "qFNvqL8-yAgH",
        "colab_type": "code",
        "outputId": "69d8faeb-6fe0-465d-b092-f6b46bfdf6ac",
        "colab": {
          "base_uri": "https://localhost:8080/",
          "height": 340
        }
      },
      "source": [
        "lst = [1, 2, 3, 1, 2, 3]\n",
        "\n",
        "s = pd.Series([1, 2, 3, 10, 20, 30], lst)\n",
        "\n",
        "print(s)\n",
        "\n",
        "grouped = s.groupby(level=0)\n",
        "\n",
        "print(grouped.first())\n",
        "print(grouped.last())\n",
        "print(grouped.sum())"
      ],
      "execution_count": 0,
      "outputs": [
        {
          "output_type": "stream",
          "text": [
            "1     1\n",
            "2     2\n",
            "3     3\n",
            "1    10\n",
            "2    20\n",
            "3    30\n",
            "dtype: int64\n",
            "1    1\n",
            "2    2\n",
            "3    3\n",
            "dtype: int64\n",
            "1    10\n",
            "2    20\n",
            "3    30\n",
            "dtype: int64\n",
            "1    11\n",
            "2    22\n",
            "3    33\n",
            "dtype: int64\n"
          ],
          "name": "stdout"
        }
      ]
    },
    {
      "cell_type": "markdown",
      "metadata": {
        "id": "8cHWhFti0MA2",
        "colab_type": "text"
      },
      "source": [
        "**Groupby Operation on DataFrame:**\n",
        "\n",
        "---\n",
        "\n"
      ]
    },
    {
      "cell_type": "code",
      "metadata": {
        "id": "e937BsgH0QWM",
        "colab_type": "code",
        "outputId": "8b6e5f91-134b-469c-d63e-6bbf1515031c",
        "colab": {
          "base_uri": "https://localhost:8080/",
          "height": 221
        }
      },
      "source": [
        "import pandas as pd\n",
        "\n",
        "world_cup = {'Team':['West Indies','West Indies','India', 'Australia', 'Pakistan', 'Sri Lanka', 'Australia','Australia','Australia', 'India', 'Australia'],\n",
        "             'Rank':[7,7,2,1,6,4,1,1,1,2,1],\n",
        "             'Year':[1975,1979,1983,1987,1992,1996,1999,2003,2007,2011,2015]}\n",
        "\n",
        "df = pd.DataFrame(world_cup)\n",
        "print(df)\n"
      ],
      "execution_count": 0,
      "outputs": [
        {
          "output_type": "stream",
          "text": [
            "    Rank         Team  Year\n",
            "0      7  West Indies  1975\n",
            "1      7  West Indies  1979\n",
            "2      2        India  1983\n",
            "3      1    Australia  1987\n",
            "4      6     Pakistan  1992\n",
            "5      4    Sri Lanka  1996\n",
            "6      1    Australia  1999\n",
            "7      1    Australia  2003\n",
            "8      1    Australia  2007\n",
            "9      2        India  2011\n",
            "10     1    Australia  2015\n"
          ],
          "name": "stdout"
        }
      ]
    },
    {
      "cell_type": "markdown",
      "metadata": {
        "id": "Fnksy1VM1_Q0",
        "colab_type": "text"
      },
      "source": [
        "**The DataFrame is grouped according to the 'Team' column**"
      ]
    },
    {
      "cell_type": "code",
      "metadata": {
        "id": "GE_E0rtC2MRL",
        "colab_type": "code",
        "outputId": "77684164-08c5-4772-f4fd-64bf65512a68",
        "colab": {
          "base_uri": "https://localhost:8080/",
          "height": 54
        }
      },
      "source": [
        "import pandas as pd\n",
        "\n",
        "world_cup = {'Team':['West Indies','West Indies','India', 'Australia', 'Pakistan', 'Sri Lanka', 'Australia','Australia','Australia', 'India', 'Australia'],\n",
        "             'Rank':[7,7,2,1,6,4,1,1,1,2,1],\n",
        "             'Year':[1975,1979,1983,1987,1992,1996,1999,2003,2007,2011,2015]}\n",
        "\n",
        "df = pd.DataFrame(world_cup)\n",
        "print(df.groupby('Team').groups)"
      ],
      "execution_count": 0,
      "outputs": [
        {
          "output_type": "stream",
          "text": [
            "{'Australia': Int64Index([3, 6, 7, 8, 10], dtype='int64'), 'India': Int64Index([2, 9], dtype='int64'), 'Pakistan': Int64Index([4], dtype='int64'), 'Sri Lanka': Int64Index([5], dtype='int64'), 'West Indies': Int64Index([0, 1], dtype='int64')}\n"
          ],
          "name": "stdout"
        }
      ]
    },
    {
      "cell_type": "markdown",
      "metadata": {
        "id": "V24wLJrU2f7P",
        "colab_type": "text"
      },
      "source": [
        "**Grouped by Multiple Column: **\n",
        "\n",
        "The DataFrame is grouped according to the \"Team\" and \"Icc_rank\" column"
      ]
    },
    {
      "cell_type": "code",
      "metadata": {
        "id": "xl8wvNFR2y4q",
        "colab_type": "code",
        "outputId": "46ae4675-d6a7-4cf6-8812-ba2f910224f8",
        "colab": {
          "base_uri": "https://localhost:8080/",
          "height": 54
        }
      },
      "source": [
        "import pandas as pd\n",
        "\n",
        "world_cup = {'Team':['West Indies','West Indies','India', 'Australia', 'Pakistan', 'Sri Lanka', 'Australia','Australia','Australia', 'India', 'Australia'],\n",
        "             'Rank':[7,7,2,1,6,4,1,1,1,2,1],\n",
        "             'Year':[1975,1979,1983,1987,1992,1996,1999,2003,2007,2011,2015]}\n",
        "\n",
        "df = pd.DataFrame(world_cup)\n",
        "print(df.groupby(['Team','Rank']).groups)"
      ],
      "execution_count": 0,
      "outputs": [
        {
          "output_type": "stream",
          "text": [
            "{('Australia', 1): Int64Index([3, 6, 7, 8, 10], dtype='int64'), ('India', 2): Int64Index([2, 9], dtype='int64'), ('Pakistan', 6): Int64Index([4], dtype='int64'), ('Sri Lanka', 4): Int64Index([5], dtype='int64'), ('West Indies', 7): Int64Index([0, 1], dtype='int64')}\n"
          ],
          "name": "stdout"
        }
      ]
    },
    {
      "cell_type": "markdown",
      "metadata": {
        "id": "wN3dOoVO3ecx",
        "colab_type": "text"
      },
      "source": [
        "**Iterating Through Groups:**\n",
        "\n",
        "Groups can be iterated through just like using itertools"
      ]
    },
    {
      "cell_type": "code",
      "metadata": {
        "id": "GIzuDeK41-Z-",
        "colab_type": "code",
        "outputId": "3e81d132-8d42-464c-bea2-1b18e19616b6",
        "colab": {
          "base_uri": "https://localhost:8080/",
          "height": 102
        }
      },
      "source": [
        "import pandas as pd\n",
        "\n",
        "world_cup = {'Team':['West Indies','West Indies','India', 'Australia', 'Pakistan', 'Sri Lanka', 'Australia','Australia','Australia', 'India', 'Australia'],\n",
        "             'Rank':[7,7,2,1,6,4,1,1,1,2,1],\n",
        "             'Year':[1975,1979,1983,1987,1992,1996,1999,2003,2007,2011,2015]}\n",
        "\n",
        "df = pd.DataFrame(world_cup)\n",
        "grouped = df.groupby('Team')\n",
        "\n",
        "for name, group in grouped:\n",
        "  print(name)"
      ],
      "execution_count": 0,
      "outputs": [
        {
          "output_type": "stream",
          "text": [
            "Australia\n",
            "India\n",
            "Pakistan\n",
            "Sri Lanka\n",
            "West Indies\n"
          ],
          "name": "stdout"
        }
      ]
    },
    {
      "cell_type": "markdown",
      "metadata": {
        "id": "jASd2-Gu4M-7",
        "colab_type": "text"
      },
      "source": [
        "**Selecting a Group:**\n",
        "\n",
        "A single group can be selected using **get_group()**"
      ]
    },
    {
      "cell_type": "code",
      "metadata": {
        "id": "peVpQ4_i4W9i",
        "colab_type": "code",
        "outputId": "11e0d368-b4f6-4e8a-e228-e5181c63ec11",
        "colab": {
          "base_uri": "https://localhost:8080/",
          "height": 68
        }
      },
      "source": [
        "import pandas as pd\n",
        "\n",
        "world_cup = {'Team':['West Indies','West Indies','India', 'Australia', 'Pakistan', 'Sri Lanka', 'Australia','Australia','Australia', 'India', 'Australia'],\n",
        "             'Rank':[7,7,2,1,6,4,1,1,1,2,1],\n",
        "             'Year':[1975,1979,1983,1987,1992,1996,1999,2003,2007,2011,2015]}\n",
        "\n",
        "df = pd.DataFrame(world_cup)\n",
        "gropued = df.groupby('Team')\n",
        "\n",
        "print(grouped.get_group('India'))"
      ],
      "execution_count": 0,
      "outputs": [
        {
          "output_type": "stream",
          "text": [
            "   Rank   Team  Year\n",
            "2     2  India  1983\n",
            "9     2  India  2011\n"
          ],
          "name": "stdout"
        }
      ]
    },
    {
      "cell_type": "markdown",
      "metadata": {
        "id": "J6sd26DW6SzU",
        "colab_type": "text"
      },
      "source": [
        "**Aggregation:**\n",
        "\n",
        "---\n",
        "\n",
        "Once the GroupBy object has been created, several methods are available to perform a computation on the grouped data.\n",
        "\n",
        "An obvious one is aggregation via the aggregate() or equivalently agg() method:\n",
        "\n",
        "\n"
      ]
    },
    {
      "cell_type": "code",
      "metadata": {
        "id": "_0YAUPnM8Wn2",
        "colab_type": "code",
        "outputId": "ae57a46e-0efd-4b5f-adcb-ca741ff4a2dd",
        "colab": {
          "base_uri": "https://localhost:8080/",
          "height": 156
        }
      },
      "source": [
        "import pandas as pd\n",
        "import numpy as np\n",
        "\n",
        "d = {'odd':np.arange(1,100,2), 'even':np.arange(0,100,2)}\n",
        "print(d['odd'])\n",
        "print(d['even'])\n",
        "\n",
        "df = pd.DataFrame(d)\n",
        "print(df.groupby('odd').groups)"
      ],
      "execution_count": 0,
      "outputs": [
        {
          "output_type": "stream",
          "text": [
            "[ 1  3  5  7  9 11 13 15 17 19 21 23 25 27 29 31 33 35 37 39 41 43 45 47\n",
            " 49 51 53 55 57 59 61 63 65 67 69 71 73 75 77 79 81 83 85 87 89 91 93 95\n",
            " 97 99]\n",
            "[ 0  2  4  6  8 10 12 14 16 18 20 22 24 26 28 30 32 34 36 38 40 42 44 46\n",
            " 48 50 52 54 56 58 60 62 64 66 68 70 72 74 76 78 80 82 84 86 88 90 92 94\n",
            " 96 98]\n",
            "{1: Int64Index([0], dtype='int64'), 3: Int64Index([1], dtype='int64'), 5: Int64Index([2], dtype='int64'), 7: Int64Index([3], dtype='int64'), 9: Int64Index([4], dtype='int64'), 11: Int64Index([5], dtype='int64'), 13: Int64Index([6], dtype='int64'), 15: Int64Index([7], dtype='int64'), 17: Int64Index([8], dtype='int64'), 19: Int64Index([9], dtype='int64'), 21: Int64Index([10], dtype='int64'), 23: Int64Index([11], dtype='int64'), 25: Int64Index([12], dtype='int64'), 27: Int64Index([13], dtype='int64'), 29: Int64Index([14], dtype='int64'), 31: Int64Index([15], dtype='int64'), 33: Int64Index([16], dtype='int64'), 35: Int64Index([17], dtype='int64'), 37: Int64Index([18], dtype='int64'), 39: Int64Index([19], dtype='int64'), 41: Int64Index([20], dtype='int64'), 43: Int64Index([21], dtype='int64'), 45: Int64Index([22], dtype='int64'), 47: Int64Index([23], dtype='int64'), 49: Int64Index([24], dtype='int64'), 51: Int64Index([25], dtype='int64'), 53: Int64Index([26], dtype='int64'), 55: Int64Index([27], dtype='int64'), 57: Int64Index([28], dtype='int64'), 59: Int64Index([29], dtype='int64'), 61: Int64Index([30], dtype='int64'), 63: Int64Index([31], dtype='int64'), 65: Int64Index([32], dtype='int64'), 67: Int64Index([33], dtype='int64'), 69: Int64Index([34], dtype='int64'), 71: Int64Index([35], dtype='int64'), 73: Int64Index([36], dtype='int64'), 75: Int64Index([37], dtype='int64'), 77: Int64Index([38], dtype='int64'), 79: Int64Index([39], dtype='int64'), 81: Int64Index([40], dtype='int64'), 83: Int64Index([41], dtype='int64'), 85: Int64Index([42], dtype='int64'), 87: Int64Index([43], dtype='int64'), 89: Int64Index([44], dtype='int64'), 91: Int64Index([45], dtype='int64'), 93: Int64Index([46], dtype='int64'), 95: Int64Index([47], dtype='int64'), 97: Int64Index([48], dtype='int64'), 99: Int64Index([49], dtype='int64')}\n"
          ],
          "name": "stdout"
        }
      ]
    },
    {
      "cell_type": "markdown",
      "metadata": {
        "id": "rhuz2DQhTHC4",
        "colab_type": "text"
      },
      "source": [
        "#Merge & Join\n",
        "\n",
        "**Merging is the Pandas operation that performs Database join on objects.**\n",
        "\n",
        "pandas provides a single function, ***merge()***, as the entry point for all standard database join operations between DataFrame or named Series objects:\n",
        "\n",
        "---\n",
        "**Brief primer on merge methods (relational algebra)**\n",
        "\n",
        "Experienced users of relational databases like SQL will be familiar with the terminology used to describe join operations between two SQL-table like structures (DataFrame objects). There are several cases to consider which are very important to understand:\n",
        "\n",
        "*   **one-to-one joins: ** for example when joining two DataFrame objects on their indexes (which must contain unique values).\n",
        "*   **many-to-one joins: ** for example when joining an index (unique) to one or more columns in a different DataFrame.\n",
        "*   **many-to-many joins:** joining columns on columns.\n",
        "\n",
        "---\n",
        "\n",
        "**Note: **When joining columns on columns (potentially a many-to-many join), any indexes on the passed DataFrame objects will be discarded."
      ]
    },
    {
      "cell_type": "code",
      "metadata": {
        "id": "ZFitUk8Rafzt",
        "colab_type": "code",
        "outputId": "f7030db0-22f4-412d-ab8b-7a2860d5b009",
        "colab": {
          "base_uri": "https://localhost:8080/",
          "height": 102
        }
      },
      "source": [
        "left = pd.DataFrame({'key': ['K0', 'K1', 'K2', 'K3'],\n",
        "                      'A': ['A0', 'A1', 'A2', 'A3'],\n",
        "                      'B': ['B0', 'B1', 'B2', 'B3']})\n",
        "   \n",
        "\n",
        "right = pd.DataFrame({'key': ['K0', 'K1', 'K2', 'K3'],\n",
        "                       'C': ['C0', 'C1', 'C2', 'C3'],\n",
        "                       'D': ['D0', 'D1', 'D2', 'D3']})\n",
        "  \n",
        "result = pd.merge(left, right, on='key')\n",
        "print(result)"
      ],
      "execution_count": 0,
      "outputs": [
        {
          "output_type": "stream",
          "text": [
            "    A   B key   C   D\n",
            "0  A0  B0  K0  C0  D0\n",
            "1  A1  B1  K1  C1  D1\n",
            "2  A2  B2  K2  C2  D2\n",
            "3  A3  B3  K3  C3  D3\n"
          ],
          "name": "stdout"
        }
      ]
    },
    {
      "cell_type": "markdown",
      "metadata": {
        "id": "BBYIcA6CdYVQ",
        "colab_type": "text"
      },
      "source": [
        "**Example2:**\n",
        "\n",
        "---\n",
        "\n"
      ]
    },
    {
      "cell_type": "code",
      "metadata": {
        "id": "UuzMy9NtdXnH",
        "colab_type": "code",
        "outputId": "f7ea5268-acdb-457c-fca6-e21ac33ca858",
        "colab": {
          "base_uri": "https://localhost:8080/",
          "height": 340
        }
      },
      "source": [
        "import pandas as pd\n",
        "\n",
        "campian_stats = {'Team':['India', 'Australia','West Indies', 'Pakistan', 'Sri Lanka'],\n",
        "                  'Rank':[2,3,7,8,4],\n",
        "                  'World_Champ_Year':[2011,2015,1979,1992,1996],\n",
        "                  'Points':[874,787,753,673,855]}\n",
        "match_stats = {'Team':['India', 'Australia','West Indies', 'Pakistan', 'Sri Lanka'],\n",
        "               'World_Cup_Played':[11,10,11,9,8],\n",
        "               'ODIs_Played':[733,988,712,679,662]}\n",
        "\n",
        "df1 = pd.DataFrame(campian_stats)\n",
        "df2 = pd.DataFrame(match_stats)\n",
        "\n",
        "print(df1)\n",
        "print(df2)\n",
        "\n",
        "print('-------------------------------------------------------------------------------')\n",
        "print(pd.merge(df1,df2, on = 'Team'))"
      ],
      "execution_count": 0,
      "outputs": [
        {
          "output_type": "stream",
          "text": [
            "   Points  Rank         Team  World_Champ_Year\n",
            "0     874     2        India              2011\n",
            "1     787     3    Australia              2015\n",
            "2     753     7  West Indies              1979\n",
            "3     673     8     Pakistan              1992\n",
            "4     855     4    Sri Lanka              1996\n",
            "   ODIs_Played         Team  World_Cup_Played\n",
            "0          733        India                11\n",
            "1          988    Australia                10\n",
            "2          712  West Indies                11\n",
            "3          679     Pakistan                 9\n",
            "4          662    Sri Lanka                 8\n",
            "-------------------------------------------------------------------------------\n",
            "   Points  Rank         Team  World_Champ_Year  ODIs_Played  World_Cup_Played\n",
            "0     874     2        India              2011          733                11\n",
            "1     787     3    Australia              2015          988                10\n",
            "2     753     7  West Indies              1979          712                11\n",
            "3     673     8     Pakistan              1992          679                 9\n",
            "4     855     4    Sri Lanka              1996          662                 8\n"
          ],
          "name": "stdout"
        }
      ]
    },
    {
      "cell_type": "markdown",
      "metadata": {
        "id": "nzNypuBrf1pD",
        "colab_type": "text"
      },
      "source": [
        "**Left Join :**\n",
        "\n",
        "---\n",
        "\n",
        "Left Join merge two object based on the keys from the left object"
      ]
    },
    {
      "cell_type": "code",
      "metadata": {
        "id": "vzg4PSLUgFVA",
        "colab_type": "code",
        "outputId": "1be5de4a-1722-49e4-90c4-3f2bf5e5eddf",
        "colab": {
          "base_uri": "https://localhost:8080/",
          "height": 119
        }
      },
      "source": [
        "left = pd.DataFrame({'key1': ['K0', 'K0', 'K1', 'K2'],\n",
        "                     'key2': ['K0', 'K1', 'K0', 'K1'],\n",
        "                      'A': ['A0', 'A1', 'A2', 'A3'],\n",
        "                      'B': ['B0', 'B1', 'B2', 'B3']})\n",
        "   \n",
        "\n",
        "right = pd.DataFrame({'key1': ['K0', 'K1', 'K1', 'K2'],\n",
        "                      'key2': ['K0', 'K0', 'K0', 'K0'],\n",
        "                       'C': ['C0', 'C1', 'C2', 'C3'],\n",
        "                       'D': ['D0', 'D1', 'D2', 'D3']})\n",
        "   \n",
        "result = pd.merge(left, right, how='left', on=['key1', 'key2'])\n",
        "print(result)\n"
      ],
      "execution_count": 0,
      "outputs": [
        {
          "output_type": "stream",
          "text": [
            "    A   B key1 key2    C    D\n",
            "0  A0  B0   K0   K0   C0   D0\n",
            "1  A1  B1   K0   K1  NaN  NaN\n",
            "2  A2  B2   K1   K0   C1   D1\n",
            "3  A2  B2   K1   K0   C2   D2\n",
            "4  A3  B3   K2   K1  NaN  NaN\n"
          ],
          "name": "stdout"
        }
      ]
    },
    {
      "cell_type": "markdown",
      "metadata": {
        "id": "n7WucO-Qhg25",
        "colab_type": "text"
      },
      "source": [
        "**Exmaple 2: Left Join**\n",
        "\n",
        "---\n",
        "\n"
      ]
    },
    {
      "cell_type": "code",
      "metadata": {
        "id": "0Nnfa7gAhgel",
        "colab_type": "code",
        "outputId": "9a8d15c3-8e8b-46c7-b3c5-c2cbc1dac4da",
        "colab": {
          "base_uri": "https://localhost:8080/",
          "height": 306
        }
      },
      "source": [
        "import pandas as pd\n",
        "\n",
        "world_campians = {'Team':['India', 'Australia','West Indies', 'Pakistan', 'Sri Lanka'],\n",
        "                  'Rank':[2,3,7,8,4],\n",
        "                  'Year':[2011,2015,1979,1992,1996],\n",
        "                  'Points':[874,787,753,673,855]}\n",
        "chokers = {'Team':['South Africa','New Zealand', 'Zimbambwe'],\n",
        "                  'Rank':[1,5,9],\n",
        "                  'Points':[895,764,656]}\n",
        "\n",
        "df1 = pd.DataFrame(world_campians)\n",
        "df2 = pd.DataFrame(chokers)\n",
        "\n",
        "print(df1)\n",
        "print(df2)\n",
        "\n",
        "print('----------------------------------------------------------------')\n",
        "\n",
        "result = pd.merge(df1,df2,on='Team',how = 'left')\n",
        "print(result)"
      ],
      "execution_count": 0,
      "outputs": [
        {
          "output_type": "stream",
          "text": [
            "   Points  Rank         Team  Year\n",
            "0     874     2        India  2011\n",
            "1     787     3    Australia  2015\n",
            "2     753     7  West Indies  1979\n",
            "3     673     8     Pakistan  1992\n",
            "4     855     4    Sri Lanka  1996\n",
            "   Points  Rank          Team\n",
            "0     895     1  South Africa\n",
            "1     764     5   New Zealand\n",
            "2     656     9     Zimbambwe\n",
            "----------------------------------------------------------------\n",
            "   Points_x  Rank_x         Team  Year  Points_y  Rank_y\n",
            "0       874       2        India  2011       NaN     NaN\n",
            "1       787       3    Australia  2015       NaN     NaN\n",
            "2       753       7  West Indies  1979       NaN     NaN\n",
            "3       673       8     Pakistan  1992       NaN     NaN\n",
            "4       855       4    Sri Lanka  1996       NaN     NaN\n"
          ],
          "name": "stdout"
        }
      ]
    },
    {
      "cell_type": "markdown",
      "metadata": {
        "id": "z8ziPPjSjg2u",
        "colab_type": "text"
      },
      "source": [
        "**Right Join:**\n",
        "\n",
        "---\n",
        "\n",
        "Right Join merges two objects based on the key from the right object"
      ]
    },
    {
      "cell_type": "code",
      "metadata": {
        "id": "qLm83rKOjzl9",
        "colab_type": "code",
        "outputId": "09002be1-d64f-4a0e-9664-7f402acdbac5",
        "colab": {
          "base_uri": "https://localhost:8080/",
          "height": 102
        }
      },
      "source": [
        "left = pd.DataFrame({'key1': ['K0', 'K0', 'K1', 'K2'],\n",
        "                     'key2': ['K0', 'K1', 'K0', 'K1'],\n",
        "                      'A': ['A0', 'A1', 'A2', 'A3'],\n",
        "                      'B': ['B0', 'B1', 'B2', 'B3']})\n",
        "   \n",
        "\n",
        "right = pd.DataFrame({'key1': ['K0', 'K1', 'K1', 'K2'],\n",
        "                      'key2': ['K0', 'K0', 'K0', 'K0'],\n",
        "                       'C': ['C0', 'C1', 'C2', 'C3'],\n",
        "                       'D': ['D0', 'D1', 'D2', 'D3']})\n",
        "   \n",
        "result = pd.merge(left, right, how='right', on=['key1', 'key2'])\n",
        "print(result)"
      ],
      "execution_count": 0,
      "outputs": [
        {
          "output_type": "stream",
          "text": [
            "     A    B key1 key2   C   D\n",
            "0   A0   B0   K0   K0  C0  D0\n",
            "1   A2   B2   K1   K0  C1  D1\n",
            "2   A2   B2   K1   K0  C2  D2\n",
            "3  NaN  NaN   K2   K0  C3  D3\n"
          ],
          "name": "stdout"
        }
      ]
    },
    {
      "cell_type": "markdown",
      "metadata": {
        "id": "S_GCAxvKj_81",
        "colab_type": "text"
      },
      "source": [
        "**Example2:**\n",
        "\n",
        "---\n",
        "\n"
      ]
    },
    {
      "cell_type": "code",
      "metadata": {
        "id": "BRtK7KSAj_RD",
        "colab_type": "code",
        "outputId": "926dbcc8-7b46-40e5-b377-261f4f34f931",
        "colab": {
          "base_uri": "https://localhost:8080/",
          "height": 272
        }
      },
      "source": [
        "import pandas as pd\n",
        "\n",
        "world_campians = {'Team':['India', 'Australia','West Indies', 'Pakistan', 'Sri Lanka'],\n",
        "                  'Rank':[2,3,7,8,4],\n",
        "                  'Year':[2011,2015,1979,1992,1996],\n",
        "                  'Points':[874,787,753,673,855]}\n",
        "chokers = {'Team':['South Africa','New Zealand', 'Zimbambwe'],\n",
        "                  'Rank':[1,5,9],\n",
        "                  'Points':[895,764,656]}\n",
        "\n",
        "df1 = pd.DataFrame(world_campians)\n",
        "df2 = pd.DataFrame(chokers)\n",
        "\n",
        "print(df1)\n",
        "print(df2)\n",
        "\n",
        "print('----------------------------------------------------------------')\n",
        "\n",
        "result = pd.merge(df1,df2,on='Team',how = 'right')\n",
        "print(result)"
      ],
      "execution_count": 0,
      "outputs": [
        {
          "output_type": "stream",
          "text": [
            "   Points  Rank         Team  Year\n",
            "0     874     2        India  2011\n",
            "1     787     3    Australia  2015\n",
            "2     753     7  West Indies  1979\n",
            "3     673     8     Pakistan  1992\n",
            "4     855     4    Sri Lanka  1996\n",
            "   Points  Rank          Team\n",
            "0     895     1  South Africa\n",
            "1     764     5   New Zealand\n",
            "2     656     9     Zimbambwe\n",
            "----------------------------------------------------------------\n",
            "   Points_x  Rank_x          Team  Year  Points_y  Rank_y\n",
            "0       NaN     NaN  South Africa   NaN       895       1\n",
            "1       NaN     NaN   New Zealand   NaN       764       5\n",
            "2       NaN     NaN     Zimbambwe   NaN       656       9\n"
          ],
          "name": "stdout"
        }
      ]
    },
    {
      "cell_type": "markdown",
      "metadata": {
        "id": "roWKc2jikZhF",
        "colab_type": "text"
      },
      "source": [
        "**Outer Join :**\n",
        "\n",
        "---\n",
        "\n",
        "Outer Join merges two objects based on a full union of the columns of both the objects\n"
      ]
    },
    {
      "cell_type": "code",
      "metadata": {
        "id": "Gv6F0gwSkpEK",
        "colab_type": "code",
        "outputId": "ef46712a-236c-4d33-92c7-526550d982ec",
        "colab": {
          "base_uri": "https://localhost:8080/",
          "height": 136
        }
      },
      "source": [
        "left = pd.DataFrame({'key1': ['K0', 'K0', 'K1', 'K2'],\n",
        "                     'key2': ['K0', 'K1', 'K0', 'K1'],\n",
        "                      'A': ['A0', 'A1', 'A2', 'A3'],\n",
        "                      'B': ['B0', 'B1', 'B2', 'B3']})\n",
        "   \n",
        "\n",
        "right = pd.DataFrame({'key1': ['K0', 'K1', 'K1', 'K2'],\n",
        "                      'key2': ['K0', 'K0', 'K0', 'K0'],\n",
        "                       'C': ['C0', 'C1', 'C2', 'C3'],\n",
        "                       'D': ['D0', 'D1', 'D2', 'D3']})\n",
        "   \n",
        "result = pd.merge(left, right, how='outer', on=['key1', 'key2'])\n",
        "print(result)"
      ],
      "execution_count": 0,
      "outputs": [
        {
          "output_type": "stream",
          "text": [
            "     A    B key1 key2    C    D\n",
            "0   A0   B0   K0   K0   C0   D0\n",
            "1   A1   B1   K0   K1  NaN  NaN\n",
            "2   A2   B2   K1   K0   C1   D1\n",
            "3   A2   B2   K1   K0   C2   D2\n",
            "4   A3   B3   K2   K1  NaN  NaN\n",
            "5  NaN  NaN   K2   K0   C3   D3\n"
          ],
          "name": "stdout"
        }
      ]
    },
    {
      "cell_type": "markdown",
      "metadata": {
        "id": "zq3EdliokyjF",
        "colab_type": "text"
      },
      "source": [
        "**Example2:**\n",
        "\n",
        "---\n",
        "\n"
      ]
    },
    {
      "cell_type": "code",
      "metadata": {
        "id": "rWcJ2IXyk2qh",
        "colab_type": "code",
        "outputId": "52eca666-51bc-45af-cca8-77defaada3d1",
        "colab": {
          "base_uri": "https://localhost:8080/",
          "height": 357
        }
      },
      "source": [
        "import pandas as pd\n",
        "\n",
        "world_campians = {'Team':['India', 'Australia','West Indies', 'Pakistan', 'Sri Lanka'],\n",
        "                  'Rank':[2,3,7,8,4],\n",
        "                  'Year':[2011,2015,1979,1992,1996],\n",
        "                  'Points':[874,787,753,673,855]}\n",
        "chokers = {'Team':['South Africa','New Zealand', 'Zimbambwe'],\n",
        "                  'Rank':[1,5,9],\n",
        "                  'Points':[895,764,656]}\n",
        "\n",
        "df1 = pd.DataFrame(world_campians)\n",
        "df2 = pd.DataFrame(chokers)\n",
        "\n",
        "print(df1)\n",
        "print(df2)\n",
        "\n",
        "print('----------------------------------------------------------------')\n",
        "\n",
        "result = pd.merge(df1,df2,on='Team',how = 'outer')\n",
        "print(result)"
      ],
      "execution_count": 0,
      "outputs": [
        {
          "output_type": "stream",
          "text": [
            "   Points  Rank         Team  Year\n",
            "0     874     2        India  2011\n",
            "1     787     3    Australia  2015\n",
            "2     753     7  West Indies  1979\n",
            "3     673     8     Pakistan  1992\n",
            "4     855     4    Sri Lanka  1996\n",
            "   Points  Rank          Team\n",
            "0     895     1  South Africa\n",
            "1     764     5   New Zealand\n",
            "2     656     9     Zimbambwe\n",
            "----------------------------------------------------------------\n",
            "   Points_x  Rank_x          Team    Year  Points_y  Rank_y\n",
            "0     874.0     2.0         India  2011.0       NaN     NaN\n",
            "1     787.0     3.0     Australia  2015.0       NaN     NaN\n",
            "2     753.0     7.0   West Indies  1979.0       NaN     NaN\n",
            "3     673.0     8.0      Pakistan  1992.0       NaN     NaN\n",
            "4     855.0     4.0     Sri Lanka  1996.0       NaN     NaN\n",
            "5       NaN     NaN  South Africa     NaN     895.0     1.0\n",
            "6       NaN     NaN   New Zealand     NaN     764.0     5.0\n",
            "7       NaN     NaN     Zimbambwe     NaN     656.0     9.0\n"
          ],
          "name": "stdout"
        }
      ]
    },
    {
      "cell_type": "markdown",
      "metadata": {
        "id": "cULaIA3YlBx6",
        "colab_type": "text"
      },
      "source": [
        "**Inner Join**\n",
        "\n",
        "---\n",
        "\n",
        "Inner Join merges two objects based on an intersection of the columns of both the objects:"
      ]
    },
    {
      "cell_type": "code",
      "metadata": {
        "id": "zFYrnj4JlPiX",
        "colab_type": "code",
        "outputId": "b4afd8c6-0803-4ce5-b779-b527f11b9e1b",
        "colab": {
          "base_uri": "https://localhost:8080/",
          "height": 85
        }
      },
      "source": [
        "left = pd.DataFrame({'key1': ['K0', 'K0', 'K1', 'K2'],\n",
        "                     'key2': ['K0', 'K1', 'K0', 'K1'],\n",
        "                      'A': ['A0', 'A1', 'A2', 'A3'],\n",
        "                      'B': ['B0', 'B1', 'B2', 'B3']})\n",
        "   \n",
        "\n",
        "right = pd.DataFrame({'key1': ['K0', 'K1', 'K1', 'K2'],\n",
        "                      'key2': ['K0', 'K0', 'K0', 'K0'],\n",
        "                       'C': ['C0', 'C1', 'C2', 'C3'],\n",
        "                       'D': ['D0', 'D1', 'D2', 'D3']})\n",
        "   \n",
        "result = pd.merge(left, right, how='inner', on=['key1', 'key2'])\n",
        "print(result)"
      ],
      "execution_count": 0,
      "outputs": [
        {
          "output_type": "stream",
          "text": [
            "    A   B key1 key2   C   D\n",
            "0  A0  B0   K0   K0  C0  D0\n",
            "1  A2  B2   K1   K0  C1  D1\n",
            "2  A2  B2   K1   K0  C2  D2\n"
          ],
          "name": "stdout"
        }
      ]
    },
    {
      "cell_type": "markdown",
      "metadata": {
        "id": "Yu83I54blXQ2",
        "colab_type": "text"
      },
      "source": [
        "**Example2:**\n",
        "\n",
        "---\n",
        "\n"
      ]
    },
    {
      "cell_type": "code",
      "metadata": {
        "id": "L3NyOjVglaEv",
        "colab_type": "code",
        "outputId": "931371b2-5b50-4b07-802c-d4d472317014",
        "colab": {
          "base_uri": "https://localhost:8080/",
          "height": 255
        }
      },
      "source": [
        "import pandas as pd\n",
        "\n",
        "world_campians = {'Team':['India', 'Australia','West Indies', 'Pakistan', 'Sri Lanka'],\n",
        "                  'Rank':[2,3,7,8,4],\n",
        "                  'Year':[2011,2015,1979,1992,1996],\n",
        "                  'Points':[874,787,753,673,855]}\n",
        "chokers = {'Team':['South Africa','New Zealand', 'Zimbambwe'],\n",
        "                  'Rank':[1,5,9],\n",
        "                  'Points':[895,764,656]}\n",
        "\n",
        "df1 = pd.DataFrame(world_campians)\n",
        "df2 = pd.DataFrame(chokers)\n",
        "\n",
        "print(df1)\n",
        "print(df2)\n",
        "\n",
        "print('----------------------------------------------------------------')\n",
        "\n",
        "result = pd.merge(df1,df2,on='Team',how = 'inner')\n",
        "print(result)"
      ],
      "execution_count": 0,
      "outputs": [
        {
          "output_type": "stream",
          "text": [
            "   Points  Rank         Team  Year\n",
            "0     874     2        India  2011\n",
            "1     787     3    Australia  2015\n",
            "2     753     7  West Indies  1979\n",
            "3     673     8     Pakistan  1992\n",
            "4     855     4    Sri Lanka  1996\n",
            "   Points  Rank          Team\n",
            "0     895     1  South Africa\n",
            "1     764     5   New Zealand\n",
            "2     656     9     Zimbambwe\n",
            "----------------------------------------------------------------\n",
            "Empty DataFrame\n",
            "Columns: [Points_x, Rank_x, Team, Year, Points_y, Rank_y]\n",
            "Index: []\n"
          ],
          "name": "stdout"
        }
      ]
    },
    {
      "cell_type": "markdown",
      "metadata": {
        "id": "peoVnWUp8XNO",
        "colab_type": "text"
      },
      "source": [
        "#Concatenation:\n",
        "\n",
        "---\n",
        "\n",
        "**Concatenation is the process of combining two or more data structures**\n",
        "\n",
        "The concat() function (in the main pandas namespace) does all of the heavy lifting of performing concatenation operations along an axis while performing optional set logic (union or intersection) of the indexes (if any) on the other axes. Note that I say “if any” because there is only a single possible axis of concatenation for Series.\n",
        "\n",
        "Before diving into all of the details of concat and what it can do, here is a **simple example:**"
      ]
    },
    {
      "cell_type": "code",
      "metadata": {
        "id": "8QizT2uqUQ-2",
        "colab_type": "code",
        "outputId": "5059cc75-83e5-4de9-d327-4e95d4a76d4f",
        "colab": {
          "base_uri": "https://localhost:8080/",
          "height": 238
        }
      },
      "source": [
        "import pandas as pd\n",
        "\n",
        "df1 = pd.DataFrame({'A': ['A0', 'A1', 'A2', 'A3'],\n",
        "                    'B': ['B0', 'B1', 'B2', 'B3'],\n",
        "                    'C': ['C0', 'C1', 'C2', 'C3'],\n",
        "                    'D': ['D0', 'D1', 'D2', 'D3']},\n",
        "                     index=[0, 1, 2, 3])\n",
        "df2 = pd.DataFrame({'A': ['A4', 'A5', 'A6', 'A7'],\n",
        "                    'B': ['B4', 'B5', 'B6', 'B7'],\n",
        "                    'C': ['C4', 'C5', 'C6', 'C7'],\n",
        "                    'D': ['D4', 'D5', 'D6', 'D7']},\n",
        "                     index=[4, 5, 6, 7])\n",
        "df3 = pd.DataFrame({'A': ['A8', 'A9', 'A10', 'A11'],\n",
        "                    'B': ['B8', 'B9', 'B10', 'B11'],\n",
        "                    'C': ['C8', 'C9', 'C10', 'C11'],\n",
        "                    'D': ['D8', 'D9', 'D10', 'D11']},\n",
        "                     index=[8, 9, 10, 11])\n",
        "\n",
        "frames = [df1, df2, df3]\n",
        "\n",
        "result = pd.concat(frames)\n",
        "print(result)"
      ],
      "execution_count": 0,
      "outputs": [
        {
          "output_type": "stream",
          "text": [
            "      A    B    C    D\n",
            "0    A0   B0   C0   D0\n",
            "1    A1   B1   C1   D1\n",
            "2    A2   B2   C2   D2\n",
            "3    A3   B3   C3   D3\n",
            "4    A4   B4   C4   D4\n",
            "5    A5   B5   C5   D5\n",
            "6    A6   B6   C6   D6\n",
            "7    A7   B7   C7   D7\n",
            "8    A8   B8   C8   D8\n",
            "9    A9   B9   C9   D9\n",
            "10  A10  B10  C10  D10\n",
            "11  A11  B11  C11  D11\n"
          ],
          "name": "stdout"
        }
      ]
    },
    {
      "cell_type": "markdown",
      "metadata": {
        "id": "1ciKLYHjWhyQ",
        "colab_type": "text"
      },
      "source": [
        "**Example2: **\n",
        "\n",
        "---\n",
        "\n"
      ]
    },
    {
      "cell_type": "code",
      "metadata": {
        "id": "s6sZMsPw6eUB",
        "colab_type": "code",
        "outputId": "f3a244c9-e91d-4b7f-9ca7-7a6d70068d9d",
        "colab": {
          "base_uri": "https://localhost:8080/",
          "height": 170
        }
      },
      "source": [
        "import pandas as pd\n",
        "\n",
        "world_campians = {'Team':['India', 'Australia','West Indies', 'Pakistan', 'Sri Lanka'],\n",
        "                  'Rank':[2,3,7,8,4],\n",
        "                  'Year':[2011,2015,1979,1992,1996],\n",
        "                  'Points':[874,787,753,673,855]}\n",
        "chokers = {'Team':['South Africa','New Zealand', 'Zimbambwe'],\n",
        "                  'Rank':[1,5,9],\n",
        "                  'Points':[895,764,656]}\n",
        "\n",
        "df1 = pd.DataFrame(world_campians)\n",
        "df2 = pd.DataFrame(chokers)\n",
        "print(pd.concat([df1,df2]))"
      ],
      "execution_count": 0,
      "outputs": [
        {
          "output_type": "stream",
          "text": [
            "   Points  Rank          Team    Year\n",
            "0     874     2         India  2011.0\n",
            "1     787     3     Australia  2015.0\n",
            "2     753     7   West Indies  1979.0\n",
            "3     673     8      Pakistan  1992.0\n",
            "4     855     4     Sri Lanka  1996.0\n",
            "0     895     1  South Africa     NaN\n",
            "1     764     5   New Zealand     NaN\n",
            "2     656     9     Zimbambwe     NaN\n"
          ],
          "name": "stdout"
        }
      ]
    },
    {
      "cell_type": "markdown",
      "metadata": {
        "id": "Cz5ERKthmPgr",
        "colab_type": "text"
      },
      "source": [
        "#Descriptive statistics\n",
        "\n",
        "---\n",
        "\n",
        "There exists a large number of methods for computing descriptive statistics and other related operations on *Series,* *DataFrame*, and *Panel*. Most of these are aggregations (hence producing a lower-dimensional result) like **sum()**, **mean()**, and **quantile()**, but some of them, like **cumsum() ** and **cumprod()**, produce an object of the same size. Generally speaking, these methods take an ***axis*** argument, just like *ndarray.{sum, std, …}*, but the axis can be specified by name or integer:\n",
        "\n",
        "*   Series: no axis argument needed\n",
        "*   DataFrame: “index” (axis=0, default), “columns” (axis=1)\n",
        "*   Panel: “items” (axis=0), “major” (axis=1, default), “minor” (axis=2)\n",
        "\n",
        "---\n",
        "\n",
        "For example:"
      ]
    },
    {
      "cell_type": "code",
      "metadata": {
        "id": "FpDskR2dmxPl",
        "colab_type": "code",
        "outputId": "2db8f1b4-50a8-448e-984f-b8cbe8adcc9f",
        "colab": {
          "base_uri": "https://localhost:8080/",
          "height": 663
        }
      },
      "source": [
        "df = pd.DataFrame({\n",
        "    'one': pd.Series(np.random.randn(3), index=['a', 'b', 'c']),\n",
        "    'two': pd.Series(np.random.randn(4), index=['a', 'b', 'c', 'd']),\n",
        "    'three': pd.Series(np.random.randn(3), index=['b', 'c', 'd'])})\n",
        "\n",
        "print(df)\n",
        "print('----------------------------------------------------------------------')\n",
        "\n",
        "print(df.mean(0))\n",
        "print('----------------------------------------------------------------------')\n",
        "\n",
        "print(df.mean(1))\n",
        "print('----------------------------------------------------------------------')\n",
        "\n",
        "print(df.sum(0, skipna=False))\n",
        "print('----------------------------------------------------------------------')\n",
        "\n",
        "print(df.sum(axis=1, skipna=True))\n",
        "print('----------------------------------------------------------------------')\n",
        "\n",
        "#Combined with the broadcasting / arithmetic behavior, one can describe various statistical procedures, \n",
        "#like standardization (rendering data zero mean and standard deviation 1), very concisely:\n",
        "\n",
        "ts_stand = (df - df.mean()) / df.std()\n",
        "print(ts_stand.std())\n",
        "\n",
        "print('----------------------------------------------------------------------')\n",
        "\n",
        "xs_stand = df.sub(df.mean(1), axis=0).div(df.std(1), axis=0)\n",
        "print(xs_stand.std(1))"
      ],
      "execution_count": 0,
      "outputs": [
        {
          "output_type": "stream",
          "text": [
            "        one     three       two\n",
            "a -1.097036       NaN -0.365077\n",
            "b  1.485938 -1.334171  0.307014\n",
            "c -1.848928 -0.590834 -0.077895\n",
            "d       NaN  0.402767 -0.684203\n",
            "----------------------------------------------------------------------\n",
            "one     -0.486675\n",
            "three   -0.507413\n",
            "two     -0.205040\n",
            "dtype: float64\n",
            "----------------------------------------------------------------------\n",
            "a   -0.731056\n",
            "b    0.152927\n",
            "c   -0.839219\n",
            "d   -0.140718\n",
            "dtype: float64\n",
            "----------------------------------------------------------------------\n",
            "one           NaN\n",
            "three         NaN\n",
            "two     -0.820161\n",
            "dtype: float64\n",
            "----------------------------------------------------------------------\n",
            "a   -1.462113\n",
            "b    0.458781\n",
            "c   -2.517657\n",
            "d   -0.281436\n",
            "dtype: float64\n",
            "----------------------------------------------------------------------\n",
            "one      1.0\n",
            "three    1.0\n",
            "two      1.0\n",
            "dtype: float64\n",
            "----------------------------------------------------------------------\n",
            "a    1.0\n",
            "b    1.0\n",
            "c    1.0\n",
            "d    1.0\n",
            "dtype: float64\n"
          ],
          "name": "stdout"
        }
      ]
    },
    {
      "cell_type": "markdown",
      "metadata": {
        "id": "GW0GWIWRmwlt",
        "colab_type": "text"
      },
      "source": [
        "**Here is a quick reference summary table of common functions. Each also takes an optional level parameter which applies only if the object has a hierarchical index.**\n",
        "\n",
        "---\n",
        "\n",
        "**Function\t----    Description**\n",
        "\n",
        "---\n",
        "\n",
        "***count***\t---- Number of non-NA observations\n",
        "\n",
        "***sum*** ----\tSum of values\n",
        "\n",
        "***mean*** ----\tMean of values\n",
        "\n",
        "***mad*** ----\tMean absolute deviation\n",
        "\n",
        "***median*** ----\tArithmetic median of values\n",
        "\n",
        "***min*** ----\tMinimum\n",
        "\n",
        "***max*** ----\tMaximum\n",
        "\n",
        "***mode*** ----\tMode\n",
        "\n",
        "***abs*** ----\tAbsolute Value\n",
        "\n",
        "***prod*** ----\tProduct of values\n",
        "\n",
        "***std*** ----\tBessel-corrected sample standard deviation\n",
        "\n",
        "***var*** ----\tUnbiased variance\n",
        "\n",
        "***sem*** ----\tStandard error of the mean\n",
        "\n",
        "***skew*** ----\tSample skewness (3rd moment)\n",
        "\n",
        "***kurt*** ----\tSample kurtosis (4th moment)\n",
        "\n",
        "***quantile*** ----\tSample quantile (value at %)\n",
        "\n",
        "***cumsum*** ----\tCumulative sum\n",
        "\n",
        "***cumprod*** ----\tCumulative product\n",
        "\n",
        "***cummax*** ----\tCumulative maximum\n",
        "\n",
        "***cummin*** ----\tCumulative minimum\n",
        "\n",
        "---\n",
        "\n",
        "**Note: **that by chance some NumPy methods, like mean, std, and sum, will exclude NAs on Series input by default:"
      ]
    },
    {
      "cell_type": "markdown",
      "metadata": {
        "id": "Sa_vDIelqr8X",
        "colab_type": "text"
      },
      "source": [
        "#Summarizing data: describe\n",
        "\n",
        "\n",
        "---\n",
        "\n",
        "There is a convenient describe() function which computes a variety of summary statistics about a Series or the columns of a DataFrame (excluding NAs of course):"
      ]
    },
    {
      "cell_type": "code",
      "metadata": {
        "id": "wdl_wFYJqwD-",
        "colab_type": "code",
        "outputId": "145ea69a-e255-4460-9e62-718fba9d3173",
        "colab": {
          "base_uri": "https://localhost:8080/",
          "height": 170
        }
      },
      "source": [
        "series = pd.Series(np.random.randn(1000))\n",
        "\n",
        "series[::2] = np.nan\n",
        "\n",
        "print(series.describe())"
      ],
      "execution_count": 0,
      "outputs": [
        {
          "output_type": "stream",
          "text": [
            "count    500.000000\n",
            "mean      -0.031346\n",
            "std        0.952589\n",
            "min       -2.760332\n",
            "25%       -0.716598\n",
            "50%       -0.071445\n",
            "75%        0.568960\n",
            "max        3.299940\n",
            "dtype: float64\n"
          ],
          "name": "stdout"
        }
      ]
    },
    {
      "cell_type": "code",
      "metadata": {
        "id": "DQGe9PqNq7Wg",
        "colab_type": "code",
        "outputId": "e90714e8-921c-477c-ee2b-61b5960740ab",
        "colab": {
          "base_uri": "https://localhost:8080/",
          "height": 170
        }
      },
      "source": [
        "frame = pd.DataFrame(np.random.randn(1000, 5),\n",
        "                    columns=['a', 'b', 'c', 'd', 'e'])\n",
        "   \n",
        "frame.iloc[::2] = np.nan\n",
        "\n",
        "print(frame.describe())"
      ],
      "execution_count": 0,
      "outputs": [
        {
          "output_type": "stream",
          "text": [
            "                a           b           c           d           e\n",
            "count  500.000000  500.000000  500.000000  500.000000  500.000000\n",
            "mean    -0.019253   -0.013860   -0.022647   -0.002475   -0.041288\n",
            "std      1.031162    0.951880    1.016555    1.001741    1.019782\n",
            "min     -3.297908   -3.483351   -3.183004   -2.887419   -2.788561\n",
            "25%     -0.717033   -0.694187   -0.692025   -0.651974   -0.690513\n",
            "50%     -0.036784   -0.023813   -0.042696    0.010926   -0.072090\n",
            "75%      0.632111    0.613831    0.668130    0.630013    0.564886\n",
            "max      3.972452    2.800126    2.910385    2.997069    4.394397\n"
          ],
          "name": "stdout"
        }
      ]
    },
    {
      "cell_type": "markdown",
      "metadata": {
        "id": "I9jxjRnhrRGK",
        "colab_type": "text"
      },
      "source": [
        "**For a non-numerical Series object,** **describe()** will give a simple summary of the number of unique values and most frequently occurring values:"
      ]
    },
    {
      "cell_type": "code",
      "metadata": {
        "id": "HzrRw2LcrXja",
        "colab_type": "code",
        "outputId": "9774c089-e703-4e4c-b4ca-e459ae6168b3",
        "colab": {
          "base_uri": "https://localhost:8080/",
          "height": 102
        }
      },
      "source": [
        "s = pd.Series(['a', 'a', 'b', 'b', 'a', 'a', np.nan, 'c', 'd', 'a'])\n",
        "\n",
        "print(s.describe())"
      ],
      "execution_count": 0,
      "outputs": [
        {
          "output_type": "stream",
          "text": [
            "count     9\n",
            "unique    4\n",
            "top       a\n",
            "freq      5\n",
            "dtype: object\n"
          ],
          "name": "stdout"
        }
      ]
    },
    {
      "cell_type": "markdown",
      "metadata": {
        "id": "TQLXfshasLmg",
        "colab_type": "text"
      },
      "source": [
        "#Reindexing and altering labels\n",
        "\n",
        "---\n",
        "reindex() is the fundamental data alignment method in pandas. It is used to implement nearly all other features relying on label-alignment functionality. To reindex means to conform the data to match a given set of labels along a particular axis. This accomplishes several things:\n",
        "\n",
        "*   Reorders the existing data to match a new set of labels\n",
        "*   Inserts missing value (NA) markers in label locations where no data for that label existed\n",
        "*   If specified, fill data for missing labels using logic (highly relevant to working with time series data)\n",
        "\n",
        "Here is a simple example:\n"
      ]
    },
    {
      "cell_type": "code",
      "metadata": {
        "id": "2gg_Fwb-sXxr",
        "colab_type": "code",
        "outputId": "fcced035-cc40-4c12-98c9-339d34b4e8b3",
        "colab": {
          "base_uri": "https://localhost:8080/",
          "height": 221
        }
      },
      "source": [
        "s = pd.Series(np.random.randn(5), index=['a', 'b', 'c', 'd', 'e'])\n",
        "\n",
        "print(s)\n",
        "\n",
        "print('---------------------------------------------------------------')\n",
        "print(s.reindex(['e', 'b', 'f', 'd']))"
      ],
      "execution_count": 0,
      "outputs": [
        {
          "output_type": "stream",
          "text": [
            "a   -1.448233\n",
            "b   -1.002762\n",
            "c    1.266810\n",
            "d   -1.890333\n",
            "e   -0.102553\n",
            "dtype: float64\n",
            "---------------------------------------------------------------\n",
            "e   -0.102553\n",
            "b   -1.002762\n",
            "f         NaN\n",
            "d   -1.890333\n",
            "dtype: float64\n"
          ],
          "name": "stdout"
        }
      ]
    },
    {
      "cell_type": "markdown",
      "metadata": {
        "id": "isXG96nrsqJ0",
        "colab_type": "text"
      },
      "source": [
        "Here, the f label was not contained in the Series and hence appears as NaN in the result.\n",
        "\n",
        "---\n",
        "\n",
        "With a DataFrame, you can simultaneously reindex the index and columns:"
      ]
    },
    {
      "cell_type": "code",
      "metadata": {
        "id": "05ZhbrJ8sskB",
        "colab_type": "code",
        "outputId": "2cc37c53-16ca-4dfd-f7c2-1378f8046a21",
        "colab": {
          "base_uri": "https://localhost:8080/",
          "height": 187
        }
      },
      "source": [
        "print(df)\n",
        "\n",
        "print('---------------------------------------------------------------------------')\n",
        "print(df.reindex(index=['c', 'f', 'b'], columns=['three', 'two', 'one']))"
      ],
      "execution_count": 0,
      "outputs": [
        {
          "output_type": "stream",
          "text": [
            "        one     three       two\n",
            "a -1.097036       NaN -0.365077\n",
            "b  1.485938 -1.334171  0.307014\n",
            "c -1.848928 -0.590834 -0.077895\n",
            "d       NaN  0.402767 -0.684203\n",
            "---------------------------------------------------------------------------\n",
            "      three       two       one\n",
            "c -0.590834 -0.077895 -1.848928\n",
            "f       NaN       NaN       NaN\n",
            "b -1.334171  0.307014  1.485938\n"
          ],
          "name": "stdout"
        }
      ]
    },
    {
      "cell_type": "markdown",
      "metadata": {
        "id": "EsP33Pn9tFdc",
        "colab_type": "text"
      },
      "source": [
        "#Renaming / mapping labels\n",
        "\n",
        "---\n",
        "\n",
        "\n",
        "\n",
        "The rename() method allows you to relabel an axis based on some mapping (a dict or Series) or an arbitrary function\n",
        "\n",
        "---\n",
        "\n"
      ]
    },
    {
      "cell_type": "code",
      "metadata": {
        "id": "L-DONfE8tKUb",
        "colab_type": "code",
        "outputId": "a0172f34-4bc2-46fb-b353-a71945160899",
        "colab": {
          "base_uri": "https://localhost:8080/",
          "height": 238
        }
      },
      "source": [
        "print(s)\n",
        "\n",
        "print('-----------------------------------------------------------------')\n",
        "print(s.rename(str.upper))"
      ],
      "execution_count": 0,
      "outputs": [
        {
          "output_type": "stream",
          "text": [
            "a   -1.448233\n",
            "b   -1.002762\n",
            "c    1.266810\n",
            "d   -1.890333\n",
            "e   -0.102553\n",
            "dtype: float64\n",
            "-----------------------------------------------------------------\n",
            "A   -1.448233\n",
            "B   -1.002762\n",
            "C    1.266810\n",
            "D   -1.890333\n",
            "E   -0.102553\n",
            "dtype: float64\n"
          ],
          "name": "stdout"
        }
      ]
    },
    {
      "cell_type": "code",
      "metadata": {
        "id": "j-YlEJ4JtcjT",
        "colab_type": "code",
        "outputId": "af013949-28c5-4b96-c13d-9d4346394928",
        "colab": {
          "base_uri": "https://localhost:8080/",
          "height": 204
        }
      },
      "source": [
        "print(df)\n",
        "\n",
        "print('----------------------------------------------------------------')\n",
        "\n",
        "print(df.rename({'one': 'foo', 'two': 'bar'}, axis='columns'))"
      ],
      "execution_count": 0,
      "outputs": [
        {
          "output_type": "stream",
          "text": [
            "        one     three       two\n",
            "a -1.097036       NaN -0.365077\n",
            "b  1.485938 -1.334171  0.307014\n",
            "c -1.848928 -0.590834 -0.077895\n",
            "d       NaN  0.402767 -0.684203\n",
            "----------------------------------------------------------------\n",
            "        foo     three       bar\n",
            "a -1.097036       NaN -0.365077\n",
            "b  1.485938 -1.334171  0.307014\n",
            "c -1.848928 -0.590834 -0.077895\n",
            "d       NaN  0.402767 -0.684203\n"
          ],
          "name": "stdout"
        }
      ]
    },
    {
      "cell_type": "markdown",
      "metadata": {
        "id": "giwk2VRGrncV",
        "colab_type": "text"
      },
      "source": [
        "#Function application\n",
        "\n",
        "---\n",
        "\n",
        "To apply your own or another library’s functions to pandas objects, you should be aware of the three methods below. The appropriate method to use depends on whether your function expects to operate on an entire DataFrame or Series, row- or column-wise, or elementwise.\n",
        "\n",
        "1. Tablewise Function Application: ***pipe()***\n",
        "2. Row or Column-wise Function Application: ***apply()***\n",
        "3. Aggregation API: ***agg()*** and ***transform()***\n",
        "4. Applying Elementwise Functions: ***applymap()***"
      ]
    }
  ]
}